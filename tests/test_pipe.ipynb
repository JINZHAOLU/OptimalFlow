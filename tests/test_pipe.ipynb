{
 "metadata": {
  "language_info": {
   "codemirror_mode": {
    "name": "ipython",
    "version": 3
   },
   "file_extension": ".py",
   "mimetype": "text/x-python",
   "name": "python",
   "nbconvert_exporter": "python",
   "pygments_lexer": "ipython3",
   "version": 3
  },
  "orig_nbformat": 2,
  "kernelspec": {
   "name": "python_defaultSpec_1596835585258",
   "display_name": "Python 3.8.4 64-bit"
  }
 },
 "nbformat": 4,
 "nbformat_minor": 2,
 "cells": [
  {
   "cell_type": "code",
   "execution_count": 14,
   "metadata": {
    "tags": []
   },
   "outputs": [
    {
     "output_type": "stream",
     "name": "stdout",
     "text": "Done with the parameters reset.\nPrevious Parameters are: {'hidden_layer_sizes': [10, 50, 100], 'activation': ['identity', 'relu', 'tanh', 'logistic'], 'learning_rate': ['constant', 'invscaling', 'adaptive'], 'solver': ['lbfgs', 'sgd', 'adam']}\nCurrent Parameters are updated as: {'hidden_layer_sizes': [10], 'activation': ['relu'], 'learning_rate': ['constant'], 'solver': ['sgd']}\nDone with the parameters update.\nPrevious Parameters are: {'kernel': ['linear', 'poly', 'rbf', 'sigmoid'], 'C': [0.1, 1, 10]}\nCurrent Parameters are updated as: {'C': [0.1], 'kernel': ['linear']}\nDone with the parameters update.\nPrevious Parameters are: {'n_estimators': [50, 100, 150], 'learning_rate': [0.1, 1, 10, 100]}\nCurrent Parameters are updated as: {'n_estimators': [50], 'learning_rate': [1]}\nDone with the parameters update.\nPrevious Parameters are: {'n_estimators': [5, 50, 250], 'max_depth': [2, 4, 8, 16, 32]}\nCurrent Parameters are updated as: {'n_estimators': [50], 'max_depth': [2]}\nDone with the parameters update.\nPrevious Parameters are: {'n_estimators': [50, 100, 150, 200, 250, 300], 'max_depth': [1, 3, 5, 7, 9], 'learning_rate': [0.01, 0.1, 0.2, 0.3, 0.4]}\nCurrent Parameters are updated as: {'n_estimators': [50], 'max_depth': [2], 'learning_rate': [1]}\nDone with the parameters update.\nPrevious Parameters are: {'n_estimators': [50, 100, 150, 200, 250, 300], 'max_depth': [3, 5, 7, 9], 'learning_rate': [0.01, 0.1, 0.2, 0.3, 0.4], 'verbosity': [0]}\nCurrent Parameters are updated as: {'n_estimators': [50], 'max_depth': [2], 'learning_rate': [1]}\nDone with the parameters update.\n"
    }
   ],
   "source": [
    "\n",
    "from dynapipe.utilis_func import pipeline_splitting_rule, update_parameters,reset_parameters\n",
    "reset_parameters()\n",
    "\n",
    "update_parameters(mode = \"cls\", estimator_name = \"mlp\", hidden_layer_sizes = [10],activation=[\"relu\"],learning_rate = [\"constant\"],solver = [\"sgd\"])\n",
    "update_parameters(mode = \"cls\", estimator_name = \"svm\", C=[0.1],kernel=[\"linear\"])\n",
    "update_parameters(mode = \"cls\", estimator_name = \"ada\", n_estimators =[50],learning_rate=[1])\n",
    "update_parameters(mode = \"cls\", estimator_name = \"rf\", n_estimators =[50],max_depth=[2])\n",
    "update_parameters(mode = \"cls\", estimator_name = \"gb\", n_estimators =[50],max_depth=[2],learning_rate=[1])\n",
    "update_parameters(mode = \"cls\", estimator_name = \"xgb\", n_estimators =[50],max_depth=[2],learning_rate=[1])\n",
    "\n",
    "from dynapipe.autoPipe import autoPipe\n",
    "import pandas as pd\n",
    "from dynapipe.funcPP import PPtools\n",
    "from dynapipe.autoPP import dynaPreprocessing\n",
    "\n",
    "from dynapipe.autoFS import dynaFS_clf\n",
    "from dynapipe.autoCV import evaluate_model,dynaClassifier,dynaRegressor\n",
    "df = pd.read_csv('./data/preprocessing/breast_cancer.csv')\n",
    "custom_parameters = {\n",
    "    \"scaler\" : [\"None\", \"standard\"],\n",
    "    # threshold number of category dimension\n",
    "    \"encode_band\" : [8],\n",
    "    # low dimension encoding\n",
    "    \"low_encode\" : [\"onehot\",\"label\"], \n",
    "    # high dimension encoding\n",
    "    \"high_encode\" : [\"frequency\", \"mean\"],\n",
    "    \"winsorizer\" : [(0.05,0.05),(0.1,0.1)],\n",
    "    \"sparsity\" : [0.7],\n",
    "    \"cols\" : [1000]\n",
    "}"
   ]
  },
  {
   "cell_type": "code",
   "execution_count": 15,
   "metadata": {},
   "outputs": [],
   "source": [
    "pipe = autoPipe(\n",
    "[(\"autoPP\",dynaPreprocessing(custom_parameters = custom_parameters, label_col = 'diagnosis', model_type = \"cls\")),\n",
    "(\"datasets_splitting\",pipeline_splitting_rule(val_size = 0.2, test_size = 0.2, random_state = 13)),\n",
    "(\"autoFS\",dynaFS_clf(fs_num = 10, random_state=13, cv = 5, in_pipeline = True, input_from_file = False)),\n",
    "(\"autoCV\",dynaClassifier(random_state = 13,cv_num = 5,in_pipeline = True, input_from_file = False)),\n",
    "(\"model_evaluate\",evaluate_model(model_type = \"cls\"))])"
   ]
  },
  {
   "cell_type": "code",
   "execution_count": 16,
   "metadata": {
    "tags": []
   },
   "outputs": [
    {
     "output_type": "stream",
     "name": "stdout",
     "text": "Now in Progress - autoFS & autoCV Iteration: Estimate about 0.0 minutes left  [####################] 100.0%\nThe top 5 Models with Best Performance Metrics:\n          Dataset Model_Name  \\\n653   Dataset_93   mlp         \n1703  Dataset_243  mlp         \n1983  Dataset_283  mlp         \n2193  Dataset_313  mlp         \n1168  Dataset_166  xgb         \n\n                                                                                                                      Best_Parameters  \\\n653   [('activation', 'relu'), ('hidden_layer_sizes', (10,)), ('learning_rate', 'constant'), ('random_state', 13), ('solver', 'sgd')]   \n1703  [('activation', 'relu'), ('hidden_layer_sizes', (10,)), ('learning_rate', 'constant'), ('random_state', 13), ('solver', 'sgd')]   \n1983  [('activation', 'relu'), ('hidden_layer_sizes', (10,)), ('learning_rate', 'constant'), ('random_state', 13), ('solver', 'sgd')]   \n2193  [('activation', 'relu'), ('hidden_layer_sizes', (10,)), ('learning_rate', 'constant'), ('random_state', 13), ('solver', 'sgd')]   \n1168  [('learning_rate', 1), ('max_depth', 2), ('n_estimators', 50), ('random_state', 13)]                                              \n\n      Accuracy  Precision  Recall  Latency  \n653   0.93      1.000      0.84    3.0      \n1703  0.93      1.000      0.84    3.0      \n1983  0.93      1.000      0.84    3.0      \n2193  0.93      1.000      0.84    3.0      \n1168  0.93      0.957      0.88    2.0      \n"
    }
   ],
   "source": [
    "from IPython.core.interactiveshell import InteractiveShell\n",
    "InteractiveShell.ast_node_interactivity = \"all\"\n",
    "pd.set_option('display.max_columns',None,'display.max_rows',None)\n",
    "pd.set_option('max_colwidth', -1)\n",
    "\n",
    "DICT_PREPROCESSING,DICT_FEATURE_SELECTION,DICT_MODELS_EVALUATION,DICT_DATA,dyna_report= pipe.fit(df)"
   ]
  },
  {
   "cell_type": "code",
   "execution_count": 8,
   "metadata": {},
   "outputs": [
    {
     "output_type": "execute_result",
     "data": {
      "text/plain": "  Model_Name  Accuracy  Precision  Recall  Latency  \\\n0  lgr        0.877     0.875      0.84    5.0       \n0  svm        0.930     0.889      0.96    3.0       \n0  mlp        0.596     0.583      0.28    3.0       \n0  rf         0.877     0.821      0.92    11.0      \n0  ada        0.895     0.913      0.84    16.0      \n0  gb         0.895     0.913      0.84    1.0       \n0  xgb        0.912     0.955      0.84    2.4       \n\n                                                                                                                   Best_Parameters  \\\n0  [('C', 1000), ('random_state', 13)]                                                                                               \n0  [('C', 0.1), ('kernel', 'linear')]                                                                                                \n0  [('activation', 'relu'), ('hidden_layer_sizes', (10,)), ('learning_rate', 'constant'), ('random_state', 13), ('solver', 'sgd')]   \n0  [('max_depth', 2), ('n_estimators', 50), ('random_state', 13)]                                                                    \n0  [('learning_rate', 1), ('n_estimators', 50), ('random_state', 13)]                                                                \n0  [('learning_rate', 1), ('max_depth', 2), ('n_estimators', 50), ('random_state', 13)]                                              \n0  [('learning_rate', 1), ('max_depth', 2), ('n_estimators', 50), ('random_state', 13)]                                              \n\n     Dataset  \n0  Dataset_0  \n0  Dataset_0  \n0  Dataset_0  \n0  Dataset_0  \n0  Dataset_0  \n0  Dataset_0  \n0  Dataset_0  ",
      "text/html": "<div>\n<style scoped>\n    .dataframe tbody tr th:only-of-type {\n        vertical-align: middle;\n    }\n\n    .dataframe tbody tr th {\n        vertical-align: top;\n    }\n\n    .dataframe thead th {\n        text-align: right;\n    }\n</style>\n<table border=\"1\" class=\"dataframe\">\n  <thead>\n    <tr style=\"text-align: right;\">\n      <th></th>\n      <th>Model_Name</th>\n      <th>Accuracy</th>\n      <th>Precision</th>\n      <th>Recall</th>\n      <th>Latency</th>\n      <th>Best_Parameters</th>\n      <th>Dataset</th>\n    </tr>\n  </thead>\n  <tbody>\n    <tr>\n      <th>0</th>\n      <td>lgr</td>\n      <td>0.877</td>\n      <td>0.875</td>\n      <td>0.84</td>\n      <td>5.0</td>\n      <td>[('C', 1000), ('random_state', 13)]</td>\n      <td>Dataset_0</td>\n    </tr>\n    <tr>\n      <th>0</th>\n      <td>svm</td>\n      <td>0.930</td>\n      <td>0.889</td>\n      <td>0.96</td>\n      <td>3.0</td>\n      <td>[('C', 0.1), ('kernel', 'linear')]</td>\n      <td>Dataset_0</td>\n    </tr>\n    <tr>\n      <th>0</th>\n      <td>mlp</td>\n      <td>0.596</td>\n      <td>0.583</td>\n      <td>0.28</td>\n      <td>3.0</td>\n      <td>[('activation', 'relu'), ('hidden_layer_sizes', (10,)), ('learning_rate', 'constant'), ('random_state', 13), ('solver', 'sgd')]</td>\n      <td>Dataset_0</td>\n    </tr>\n    <tr>\n      <th>0</th>\n      <td>rf</td>\n      <td>0.877</td>\n      <td>0.821</td>\n      <td>0.92</td>\n      <td>11.0</td>\n      <td>[('max_depth', 2), ('n_estimators', 50), ('random_state', 13)]</td>\n      <td>Dataset_0</td>\n    </tr>\n    <tr>\n      <th>0</th>\n      <td>ada</td>\n      <td>0.895</td>\n      <td>0.913</td>\n      <td>0.84</td>\n      <td>16.0</td>\n      <td>[('learning_rate', 1), ('n_estimators', 50), ('random_state', 13)]</td>\n      <td>Dataset_0</td>\n    </tr>\n    <tr>\n      <th>0</th>\n      <td>gb</td>\n      <td>0.895</td>\n      <td>0.913</td>\n      <td>0.84</td>\n      <td>1.0</td>\n      <td>[('learning_rate', 1), ('max_depth', 2), ('n_estimators', 50), ('random_state', 13)]</td>\n      <td>Dataset_0</td>\n    </tr>\n    <tr>\n      <th>0</th>\n      <td>xgb</td>\n      <td>0.912</td>\n      <td>0.955</td>\n      <td>0.84</td>\n      <td>2.4</td>\n      <td>[('learning_rate', 1), ('max_depth', 2), ('n_estimators', 50), ('random_state', 13)]</td>\n      <td>Dataset_0</td>\n    </tr>\n  </tbody>\n</table>\n</div>"
     },
     "metadata": {},
     "execution_count": 8
    }
   ],
   "source": [
    "\n",
    "DICT_MODELS_EVALUATION['Dataset_0']"
   ]
  },
  {
   "cell_type": "code",
   "execution_count": 9,
   "metadata": {},
   "outputs": [
    {
     "output_type": "execute_result",
     "data": {
      "text/plain": "        Dataset Model_Name  \\\n236  Dataset_33  gb          \n529  Dataset_75  ada         \n28   Dataset_4   lgr         \n1    Dataset_0   svm         \n323  Dataset_46  svm         \n561  Dataset_80  svm         \n449  Dataset_64  svm         \n99   Dataset_14  svm         \n141  Dataset_20  svm         \n155  Dataset_22  svm         \n197  Dataset_28  svm         \n379  Dataset_54  svm         \n435  Dataset_62  svm         \n519  Dataset_74  svm         \n575  Dataset_82  svm         \n\n                                                                          Best_Parameters  \\\n236  [('learning_rate', 1), ('max_depth', 2), ('n_estimators', 50), ('random_state', 13)]   \n529  [('learning_rate', 1), ('n_estimators', 50), ('random_state', 13)]                     \n28   [('C', 100), ('random_state', 13)]                                                     \n1    [('C', 0.1), ('kernel', 'linear')]                                                     \n323  [('C', 0.1), ('kernel', 'linear')]                                                     \n561  [('C', 0.1), ('kernel', 'linear')]                                                     \n449  [('C', 0.1), ('kernel', 'linear')]                                                     \n99   [('C', 0.1), ('kernel', 'linear')]                                                     \n141  [('C', 0.1), ('kernel', 'linear')]                                                     \n155  [('C', 0.1), ('kernel', 'linear')]                                                     \n197  [('C', 0.1), ('kernel', 'linear')]                                                     \n379  [('C', 0.1), ('kernel', 'linear')]                                                     \n435  [('C', 0.1), ('kernel', 'linear')]                                                     \n519  [('C', 0.1), ('kernel', 'linear')]                                                     \n575  [('C', 0.1), ('kernel', 'linear')]                                                     \n\n     Accuracy  Precision  Recall  Latency  \n236  0.93      0.957      0.88    3.0      \n529  0.93      0.957      0.88    15.0     \n28   0.93      0.920      0.92    2.0      \n1    0.93      0.889      0.96    2.0      \n323  0.93      0.889      0.96    2.0      \n561  0.93      0.889      0.96    2.0      \n449  0.93      0.889      0.96    2.5      \n99   0.93      0.889      0.96    3.0      \n141  0.93      0.889      0.96    3.0      \n155  0.93      0.889      0.96    3.0      \n197  0.93      0.889      0.96    3.0      \n379  0.93      0.889      0.96    3.0      \n435  0.93      0.889      0.96    3.0      \n519  0.93      0.889      0.96    3.0      \n575  0.93      0.889      0.96    3.0      ",
      "text/html": "<div>\n<style scoped>\n    .dataframe tbody tr th:only-of-type {\n        vertical-align: middle;\n    }\n\n    .dataframe tbody tr th {\n        vertical-align: top;\n    }\n\n    .dataframe thead th {\n        text-align: right;\n    }\n</style>\n<table border=\"1\" class=\"dataframe\">\n  <thead>\n    <tr style=\"text-align: right;\">\n      <th></th>\n      <th>Dataset</th>\n      <th>Model_Name</th>\n      <th>Best_Parameters</th>\n      <th>Accuracy</th>\n      <th>Precision</th>\n      <th>Recall</th>\n      <th>Latency</th>\n    </tr>\n  </thead>\n  <tbody>\n    <tr>\n      <th>236</th>\n      <td>Dataset_33</td>\n      <td>gb</td>\n      <td>[('learning_rate', 1), ('max_depth', 2), ('n_estimators', 50), ('random_state', 13)]</td>\n      <td>0.93</td>\n      <td>0.957</td>\n      <td>0.88</td>\n      <td>3.0</td>\n    </tr>\n    <tr>\n      <th>529</th>\n      <td>Dataset_75</td>\n      <td>ada</td>\n      <td>[('learning_rate', 1), ('n_estimators', 50), ('random_state', 13)]</td>\n      <td>0.93</td>\n      <td>0.957</td>\n      <td>0.88</td>\n      <td>15.0</td>\n    </tr>\n    <tr>\n      <th>28</th>\n      <td>Dataset_4</td>\n      <td>lgr</td>\n      <td>[('C', 100), ('random_state', 13)]</td>\n      <td>0.93</td>\n      <td>0.920</td>\n      <td>0.92</td>\n      <td>2.0</td>\n    </tr>\n    <tr>\n      <th>1</th>\n      <td>Dataset_0</td>\n      <td>svm</td>\n      <td>[('C', 0.1), ('kernel', 'linear')]</td>\n      <td>0.93</td>\n      <td>0.889</td>\n      <td>0.96</td>\n      <td>2.0</td>\n    </tr>\n    <tr>\n      <th>323</th>\n      <td>Dataset_46</td>\n      <td>svm</td>\n      <td>[('C', 0.1), ('kernel', 'linear')]</td>\n      <td>0.93</td>\n      <td>0.889</td>\n      <td>0.96</td>\n      <td>2.0</td>\n    </tr>\n    <tr>\n      <th>561</th>\n      <td>Dataset_80</td>\n      <td>svm</td>\n      <td>[('C', 0.1), ('kernel', 'linear')]</td>\n      <td>0.93</td>\n      <td>0.889</td>\n      <td>0.96</td>\n      <td>2.0</td>\n    </tr>\n    <tr>\n      <th>449</th>\n      <td>Dataset_64</td>\n      <td>svm</td>\n      <td>[('C', 0.1), ('kernel', 'linear')]</td>\n      <td>0.93</td>\n      <td>0.889</td>\n      <td>0.96</td>\n      <td>2.5</td>\n    </tr>\n    <tr>\n      <th>99</th>\n      <td>Dataset_14</td>\n      <td>svm</td>\n      <td>[('C', 0.1), ('kernel', 'linear')]</td>\n      <td>0.93</td>\n      <td>0.889</td>\n      <td>0.96</td>\n      <td>3.0</td>\n    </tr>\n    <tr>\n      <th>141</th>\n      <td>Dataset_20</td>\n      <td>svm</td>\n      <td>[('C', 0.1), ('kernel', 'linear')]</td>\n      <td>0.93</td>\n      <td>0.889</td>\n      <td>0.96</td>\n      <td>3.0</td>\n    </tr>\n    <tr>\n      <th>155</th>\n      <td>Dataset_22</td>\n      <td>svm</td>\n      <td>[('C', 0.1), ('kernel', 'linear')]</td>\n      <td>0.93</td>\n      <td>0.889</td>\n      <td>0.96</td>\n      <td>3.0</td>\n    </tr>\n    <tr>\n      <th>197</th>\n      <td>Dataset_28</td>\n      <td>svm</td>\n      <td>[('C', 0.1), ('kernel', 'linear')]</td>\n      <td>0.93</td>\n      <td>0.889</td>\n      <td>0.96</td>\n      <td>3.0</td>\n    </tr>\n    <tr>\n      <th>379</th>\n      <td>Dataset_54</td>\n      <td>svm</td>\n      <td>[('C', 0.1), ('kernel', 'linear')]</td>\n      <td>0.93</td>\n      <td>0.889</td>\n      <td>0.96</td>\n      <td>3.0</td>\n    </tr>\n    <tr>\n      <th>435</th>\n      <td>Dataset_62</td>\n      <td>svm</td>\n      <td>[('C', 0.1), ('kernel', 'linear')]</td>\n      <td>0.93</td>\n      <td>0.889</td>\n      <td>0.96</td>\n      <td>3.0</td>\n    </tr>\n    <tr>\n      <th>519</th>\n      <td>Dataset_74</td>\n      <td>svm</td>\n      <td>[('C', 0.1), ('kernel', 'linear')]</td>\n      <td>0.93</td>\n      <td>0.889</td>\n      <td>0.96</td>\n      <td>3.0</td>\n    </tr>\n    <tr>\n      <th>575</th>\n      <td>Dataset_82</td>\n      <td>svm</td>\n      <td>[('C', 0.1), ('kernel', 'linear')]</td>\n      <td>0.93</td>\n      <td>0.889</td>\n      <td>0.96</td>\n      <td>3.0</td>\n    </tr>\n  </tbody>\n</table>\n</div>"
     },
     "metadata": {},
     "execution_count": 9
    }
   ],
   "source": [
    "dyna_report.head(15)\n",
    "dyna_report.to_csv(\"dyna_report.csv\",index=False)"
   ]
  },
  {
   "cell_type": "code",
   "execution_count": 15,
   "metadata": {},
   "outputs": [
    {
     "output_type": "execute_result",
     "data": {
      "text/plain": "     concavity_mean  concave points_mean  perimeter_mean  radius_mean  \\\n264  0.09061         0.065270             111.60          17.19         \n231  0.01633         0.006588             71.76           11.32         \n197  0.11030         0.057780             117.40          18.08         \n172  0.20320         0.109700             102.50          15.46         \n54   0.05253         0.033340             97.26           15.10         \n33   0.16570         0.075930             127.90          19.27         \n68   0.25080         0.043750             60.73           9.72          \n237  0.09042         0.060220             132.50          20.48         \n51   0.01857         0.017230             87.21           13.64         \n196  0.13850         0.065260             90.63           13.77         \n\n     texture_mean  \n264  22.07         \n231  26.60         \n197  21.84         \n172  13.04         \n54   22.02         \n33   26.47         \n68   17.33         \n237  21.46         \n51   16.34         \n196  22.29         ",
      "text/html": "<div>\n<style scoped>\n    .dataframe tbody tr th:only-of-type {\n        vertical-align: middle;\n    }\n\n    .dataframe tbody tr th {\n        vertical-align: top;\n    }\n\n    .dataframe thead th {\n        text-align: right;\n    }\n</style>\n<table border=\"1\" class=\"dataframe\">\n  <thead>\n    <tr style=\"text-align: right;\">\n      <th></th>\n      <th>concavity_mean</th>\n      <th>concave points_mean</th>\n      <th>perimeter_mean</th>\n      <th>radius_mean</th>\n      <th>texture_mean</th>\n    </tr>\n  </thead>\n  <tbody>\n    <tr>\n      <th>264</th>\n      <td>0.09061</td>\n      <td>0.065270</td>\n      <td>111.60</td>\n      <td>17.19</td>\n      <td>22.07</td>\n    </tr>\n    <tr>\n      <th>231</th>\n      <td>0.01633</td>\n      <td>0.006588</td>\n      <td>71.76</td>\n      <td>11.32</td>\n      <td>26.60</td>\n    </tr>\n    <tr>\n      <th>197</th>\n      <td>0.11030</td>\n      <td>0.057780</td>\n      <td>117.40</td>\n      <td>18.08</td>\n      <td>21.84</td>\n    </tr>\n    <tr>\n      <th>172</th>\n      <td>0.20320</td>\n      <td>0.109700</td>\n      <td>102.50</td>\n      <td>15.46</td>\n      <td>13.04</td>\n    </tr>\n    <tr>\n      <th>54</th>\n      <td>0.05253</td>\n      <td>0.033340</td>\n      <td>97.26</td>\n      <td>15.10</td>\n      <td>22.02</td>\n    </tr>\n    <tr>\n      <th>33</th>\n      <td>0.16570</td>\n      <td>0.075930</td>\n      <td>127.90</td>\n      <td>19.27</td>\n      <td>26.47</td>\n    </tr>\n    <tr>\n      <th>68</th>\n      <td>0.25080</td>\n      <td>0.043750</td>\n      <td>60.73</td>\n      <td>9.72</td>\n      <td>17.33</td>\n    </tr>\n    <tr>\n      <th>237</th>\n      <td>0.09042</td>\n      <td>0.060220</td>\n      <td>132.50</td>\n      <td>20.48</td>\n      <td>21.46</td>\n    </tr>\n    <tr>\n      <th>51</th>\n      <td>0.01857</td>\n      <td>0.017230</td>\n      <td>87.21</td>\n      <td>13.64</td>\n      <td>16.34</td>\n    </tr>\n    <tr>\n      <th>196</th>\n      <td>0.13850</td>\n      <td>0.065260</td>\n      <td>90.63</td>\n      <td>13.77</td>\n      <td>22.29</td>\n    </tr>\n  </tbody>\n</table>\n</div>"
     },
     "metadata": {},
     "execution_count": 15
    }
   ],
   "source": [
    "DICT_DATA['Dataset_0']['DICT_TEST'][\"X\"].head(10)"
   ]
  },
  {
   "cell_type": "code",
   "execution_count": 21,
   "metadata": {},
   "outputs": [
    {
     "output_type": "execute_result",
     "data": {
      "text/plain": "\"winsor_0-Scaler_None-- Encoded Features:['diagnosis', 'Size_3', 'area_mean', 'compactness_mean', 'concave points_mean', 'concavity_mean', 'fractal_dimension_mean', 'perimeter_mean', 'radius_mean', 'smoothness_mean', 'symmetry_mean', 'texture_mean', 'onehot_Age_20-29', 'onehot_Age_30-39', 'onehot_Age_40-49', 'onehot_Age_50-59', 'onehot_Age_60-69', 'onehot_Age_70-79', 'Label_Position_1', 'onehot_Position_2_NaN', 'onehot_Position_2_central', 'onehot_Position_2_left_low', 'onehot_Position_2_left_up', 'onehot_Position_2_right_low', 'onehot_Position_2_right_up', 'Frequency_Size_1', 'onehot_Size_2_0-2', 'onehot_Size_2_12-14', 'onehot_Size_2_15-17', 'onehot_Size_2_24-26', 'onehot_Size_2_3-5', 'onehot_Size_2_6-8', 'onehot_Size_2_9-11', 'Label_Treatment', 'onehot_Type_1_ge40', 'onehot_Type_1_lt40', 'onehot_Type_1_premeno', 'onehot_Type_2_NaN', 'onehot_Type_2_no', 'onehot_Type_2_yes', 'Label_Type_3']\""
     },
     "metadata": {},
     "execution_count": 21
    }
   ],
   "source": [
    "test = DICT_PREPROCESSING['Dataset_0']\n",
    "test"
   ]
  },
  {
   "cell_type": "code",
   "execution_count": 17,
   "metadata": {},
   "outputs": [],
   "source": [
    "from dynapipe.autoViz import autoViz\n",
    "viz = autoViz(preprocess_dict=DICT_PREPROCESSING,report=dyna_report)\n",
    "viz.clf_model_retrieval(metrics='accuracy')"
   ]
  },
  {
   "cell_type": "code",
   "execution_count": null,
   "metadata": {},
   "outputs": [],
   "source": []
  },
  {
   "cell_type": "code",
   "execution_count": 5,
   "metadata": {
    "tags": []
   },
   "outputs": [
    {
     "output_type": "execute_result",
     "data": {
      "text/plain": "     Dataset Encode_low_dimension Encode_high_dimension    Winsorize  \\\n0  Dataset_0  Low Dim_onehot       High Dim_No Encoder   Winsorize_0   \n1  Dataset_0  Low Dim_onehot       High Dim_No Encoder   Winsorize_0   \n2  Dataset_0  Low Dim_onehot       High Dim_No Encoder   Winsorize_0   \n\n             Scale  Accuracy          Level  cnt  \n0  Scale_No Scaler  0.877     High Accuracy  1    \n1  Scale_No Scaler  0.860     High Accuracy  1    \n2  Scale_No Scaler  0.860     High Accuracy  1    ",
      "text/html": "<div>\n<style scoped>\n    .dataframe tbody tr th:only-of-type {\n        vertical-align: middle;\n    }\n\n    .dataframe tbody tr th {\n        vertical-align: top;\n    }\n\n    .dataframe thead th {\n        text-align: right;\n    }\n</style>\n<table border=\"1\" class=\"dataframe\">\n  <thead>\n    <tr style=\"text-align: right;\">\n      <th></th>\n      <th>Dataset</th>\n      <th>Encode_low_dimension</th>\n      <th>Encode_high_dimension</th>\n      <th>Winsorize</th>\n      <th>Scale</th>\n      <th>Accuracy</th>\n      <th>Level</th>\n      <th>cnt</th>\n    </tr>\n  </thead>\n  <tbody>\n    <tr>\n      <th>0</th>\n      <td>Dataset_0</td>\n      <td>Low Dim_onehot</td>\n      <td>High Dim_No Encoder</td>\n      <td>Winsorize_0</td>\n      <td>Scale_No Scaler</td>\n      <td>0.877</td>\n      <td>High Accuracy</td>\n      <td>1</td>\n    </tr>\n    <tr>\n      <th>1</th>\n      <td>Dataset_0</td>\n      <td>Low Dim_onehot</td>\n      <td>High Dim_No Encoder</td>\n      <td>Winsorize_0</td>\n      <td>Scale_No Scaler</td>\n      <td>0.860</td>\n      <td>High Accuracy</td>\n      <td>1</td>\n    </tr>\n    <tr>\n      <th>2</th>\n      <td>Dataset_0</td>\n      <td>Low Dim_onehot</td>\n      <td>High Dim_No Encoder</td>\n      <td>Winsorize_0</td>\n      <td>Scale_No Scaler</td>\n      <td>0.860</td>\n      <td>High Accuracy</td>\n      <td>1</td>\n    </tr>\n  </tbody>\n</table>\n</div>"
     },
     "metadata": {},
     "execution_count": 5
    },
    {
     "output_type": "execute_result",
     "data": {
      "text/plain": "     Dataset Encode_low_dimension Encode_high_dimension    Winsorize  \\\n0  Dataset_0  Low Dim_onehot       High Dim_No Encoder   Winsorize_0   \n1  Dataset_0  Low Dim_onehot       High Dim_No Encoder   Winsorize_0   \n2  Dataset_0  Low Dim_onehot       High Dim_No Encoder   Winsorize_0   \n\n                   Scale  Precision           Level  cnt  \n0  Scale_Scale_No Scaler  0.821      High Precision  1    \n1  Scale_Scale_No Scaler  0.840      High Precision  1    \n2  Scale_Scale_No Scaler  0.815      High Precision  1    ",
      "text/html": "<div>\n<style scoped>\n    .dataframe tbody tr th:only-of-type {\n        vertical-align: middle;\n    }\n\n    .dataframe tbody tr th {\n        vertical-align: top;\n    }\n\n    .dataframe thead th {\n        text-align: right;\n    }\n</style>\n<table border=\"1\" class=\"dataframe\">\n  <thead>\n    <tr style=\"text-align: right;\">\n      <th></th>\n      <th>Dataset</th>\n      <th>Encode_low_dimension</th>\n      <th>Encode_high_dimension</th>\n      <th>Winsorize</th>\n      <th>Scale</th>\n      <th>Precision</th>\n      <th>Level</th>\n      <th>cnt</th>\n    </tr>\n  </thead>\n  <tbody>\n    <tr>\n      <th>0</th>\n      <td>Dataset_0</td>\n      <td>Low Dim_onehot</td>\n      <td>High Dim_No Encoder</td>\n      <td>Winsorize_0</td>\n      <td>Scale_Scale_No Scaler</td>\n      <td>0.821</td>\n      <td>High Precision</td>\n      <td>1</td>\n    </tr>\n    <tr>\n      <th>1</th>\n      <td>Dataset_0</td>\n      <td>Low Dim_onehot</td>\n      <td>High Dim_No Encoder</td>\n      <td>Winsorize_0</td>\n      <td>Scale_Scale_No Scaler</td>\n      <td>0.840</td>\n      <td>High Precision</td>\n      <td>1</td>\n    </tr>\n    <tr>\n      <th>2</th>\n      <td>Dataset_0</td>\n      <td>Low Dim_onehot</td>\n      <td>High Dim_No Encoder</td>\n      <td>Winsorize_0</td>\n      <td>Scale_Scale_No Scaler</td>\n      <td>0.815</td>\n      <td>High Precision</td>\n      <td>1</td>\n    </tr>\n  </tbody>\n</table>\n</div>"
     },
     "metadata": {},
     "execution_count": 5
    },
    {
     "output_type": "execute_result",
     "data": {
      "text/plain": "     Dataset Encode_low_dimension Encode_high_dimension    Winsorize  \\\n0  Dataset_0  Low Dim_onehot       High Dim_No Encoder   Winsorize_0   \n1  Dataset_0  Low Dim_onehot       High Dim_No Encoder   Winsorize_0   \n2  Dataset_0  Low Dim_onehot       High Dim_No Encoder   Winsorize_0   \n\n                   Scale  Recall        Level  cnt  \n0  Scale_Scale_No Scaler  0.92    Top Recall   1    \n1  Scale_Scale_No Scaler  0.84    High Recall  1    \n2  Scale_Scale_No Scaler  0.88    High Recall  1    ",
      "text/html": "<div>\n<style scoped>\n    .dataframe tbody tr th:only-of-type {\n        vertical-align: middle;\n    }\n\n    .dataframe tbody tr th {\n        vertical-align: top;\n    }\n\n    .dataframe thead th {\n        text-align: right;\n    }\n</style>\n<table border=\"1\" class=\"dataframe\">\n  <thead>\n    <tr style=\"text-align: right;\">\n      <th></th>\n      <th>Dataset</th>\n      <th>Encode_low_dimension</th>\n      <th>Encode_high_dimension</th>\n      <th>Winsorize</th>\n      <th>Scale</th>\n      <th>Recall</th>\n      <th>Level</th>\n      <th>cnt</th>\n    </tr>\n  </thead>\n  <tbody>\n    <tr>\n      <th>0</th>\n      <td>Dataset_0</td>\n      <td>Low Dim_onehot</td>\n      <td>High Dim_No Encoder</td>\n      <td>Winsorize_0</td>\n      <td>Scale_Scale_No Scaler</td>\n      <td>0.92</td>\n      <td>Top Recall</td>\n      <td>1</td>\n    </tr>\n    <tr>\n      <th>1</th>\n      <td>Dataset_0</td>\n      <td>Low Dim_onehot</td>\n      <td>High Dim_No Encoder</td>\n      <td>Winsorize_0</td>\n      <td>Scale_Scale_No Scaler</td>\n      <td>0.84</td>\n      <td>High Recall</td>\n      <td>1</td>\n    </tr>\n    <tr>\n      <th>2</th>\n      <td>Dataset_0</td>\n      <td>Low Dim_onehot</td>\n      <td>High Dim_No Encoder</td>\n      <td>Winsorize_0</td>\n      <td>Scale_Scale_No Scaler</td>\n      <td>0.88</td>\n      <td>High Recall</td>\n      <td>1</td>\n    </tr>\n  </tbody>\n</table>\n</div>"
     },
     "metadata": {},
     "execution_count": 5
    }
   ],
   "source": [
    "import re\n",
    "import pandas as pd\n",
    "\n",
    "columns = [\"Dataset\",\"Encode_low_dimension\",\"Encode_high_dimension\",\"Winsorize\",\"Scale\"]\n",
    "df_pp = pd.DataFrame(columns=columns)\n",
    "\n",
    "for i in list(DICT_PREPROCESSING.keys()):\n",
    "    row_pp = [i]\n",
    "    s = DICT_PREPROCESSING[i]\n",
    "    ext = re.search(\"Encoded Features:(.*)']\", s).group(1)\n",
    "    if \"onehot_\" in ext:\n",
    "        row_pp.append('Low Dim_onehot')\n",
    "    elif \"label_\" in ext:\n",
    "        row_pp.append('Low Dim_label')\n",
    "    else:\n",
    "        row_pp.append('Low Dim_No Encoder')\n",
    "\n",
    "    if \"frequency_\" in ext:\n",
    "        row_pp.append('High Dim_frequency')\n",
    "    elif \"mean_\" in ext:\n",
    "        row_pp.append('High Dim_mean')\n",
    "    else:\n",
    "        row_pp.append('High Dim_No Encoder')\n",
    "\n",
    "    row_pp.append(re.search('winsor_(.*)-Scaler', s).group(1))\n",
    "    row_pp.append(re.search('-Scaler_(.*)-- ', s).group(1))\n",
    "    df_pp.loc[len(df_pp)] = row_pp\n",
    "\n",
    "df_report_Accuracy = df_pp.merge(dyna_report[['Dataset','Accuracy']], how = 'left', on = 'Dataset')\n",
    "bins = [0, 0.70, 0.90, 1]\n",
    "labels = [\"Low Accuracy\",\"High Accuracy\",\"Top Accuracy\"]\n",
    "df_report_Accuracy['Level'] = pd.cut(df_report_Accuracy['Accuracy'], bins=bins, labels=labels)\n",
    "df_report_Accuracy['cnt'] = 1\n",
    "df_report_Accuracy.loc[df_report_Accuracy['Scale'] == 'None','Scale'] = \"No Scaler\"\n",
    "df_report_Accuracy['Scale'] = 'Scale_'+df_report_Accuracy['Scale']\n",
    "df_report_Accuracy['Winsorize'] = 'Winsorize_' + df_report_Accuracy['Winsorize']\n",
    "df_report_Accuracy.head(3)\n",
    "\n",
    "df_report_Precision = df_pp.merge(dyna_report[['Dataset','Precision']], how = 'left', on = 'Dataset')\n",
    "bins = [0, 0.70, 0.90, 1]\n",
    "labels = [\"Low Precision\",\"High Precision\",\"Top Precision\"]\n",
    "df_report_Precision['Level'] = pd.cut(df_report_Precision['Precision'], bins=bins, labels=labels)\n",
    "df_report_Precision['cnt'] = 1\n",
    "df_report_Precision.loc[df_report_Precision['Scale'] == 'None','Scale'] = \"No Scaler\"\n",
    "df_report_Precision['Scale'] = 'Scale_'+df_report_Accuracy['Scale']\n",
    "df_report_Precision['Winsorize'] = 'Winsorize_' + df_report_Precision['Winsorize']\n",
    "df_report_Precision.head(3)\n",
    "\n",
    "df_report_Recall = df_pp.merge(dyna_report[['Dataset','Recall']], how = 'left', on = 'Dataset')\n",
    "bins = [0, 0.70, 0.90, 1]\n",
    "labels = [\"Low Recall\",\"High Recall\",\"Top Recall\"]\n",
    "df_report_Recall['Level'] = pd.cut(df_report_Recall['Recall'], bins=bins, labels=labels)\n",
    "df_report_Recall['cnt'] = 1\n",
    "df_report_Recall.loc[df_report_Recall['Scale'] == 'None','Scale'] = \"No Scaler\"\n",
    "df_report_Recall['Scale'] = 'Scale_'+df_report_Accuracy['Scale']\n",
    "df_report_Recall['Winsorize'] = 'Winsorize_' + df_report_Recall['Winsorize']\n",
    "df_report_Recall.head(3)\n"
   ]
  },
  {
   "cell_type": "code",
   "execution_count": 6,
   "metadata": {},
   "outputs": [
    {
     "output_type": "execute_result",
     "data": {
      "text/plain": "  antecedentIndex consequentIndex  Total\n0  Dataset_0       Low Dim_onehot  7.0  \n1  Dataset_1       Low Dim_onehot  7.0  \n2  Dataset_10      Low Dim_onehot  7.0  \n3  Dataset_100     Low Dim_onehot  7.0  \n4  Dataset_101     Low Dim_onehot  7.0  \n5  Dataset_102     Low Dim_onehot  7.0  \n6  Dataset_103     Low Dim_onehot  7.0  \n7  Dataset_104     Low Dim_onehot  7.0  \n8  Dataset_105     Low Dim_onehot  7.0  \n9  Dataset_106     Low Dim_onehot  7.0  ",
      "text/html": "<div>\n<style scoped>\n    .dataframe tbody tr th:only-of-type {\n        vertical-align: middle;\n    }\n\n    .dataframe tbody tr th {\n        vertical-align: top;\n    }\n\n    .dataframe thead th {\n        text-align: right;\n    }\n</style>\n<table border=\"1\" class=\"dataframe\">\n  <thead>\n    <tr style=\"text-align: right;\">\n      <th></th>\n      <th>antecedentIndex</th>\n      <th>consequentIndex</th>\n      <th>Total</th>\n    </tr>\n  </thead>\n  <tbody>\n    <tr>\n      <th>0</th>\n      <td>Dataset_0</td>\n      <td>Low Dim_onehot</td>\n      <td>7.0</td>\n    </tr>\n    <tr>\n      <th>1</th>\n      <td>Dataset_1</td>\n      <td>Low Dim_onehot</td>\n      <td>7.0</td>\n    </tr>\n    <tr>\n      <th>2</th>\n      <td>Dataset_10</td>\n      <td>Low Dim_onehot</td>\n      <td>7.0</td>\n    </tr>\n    <tr>\n      <th>3</th>\n      <td>Dataset_100</td>\n      <td>Low Dim_onehot</td>\n      <td>7.0</td>\n    </tr>\n    <tr>\n      <th>4</th>\n      <td>Dataset_101</td>\n      <td>Low Dim_onehot</td>\n      <td>7.0</td>\n    </tr>\n    <tr>\n      <th>5</th>\n      <td>Dataset_102</td>\n      <td>Low Dim_onehot</td>\n      <td>7.0</td>\n    </tr>\n    <tr>\n      <th>6</th>\n      <td>Dataset_103</td>\n      <td>Low Dim_onehot</td>\n      <td>7.0</td>\n    </tr>\n    <tr>\n      <th>7</th>\n      <td>Dataset_104</td>\n      <td>Low Dim_onehot</td>\n      <td>7.0</td>\n    </tr>\n    <tr>\n      <th>8</th>\n      <td>Dataset_105</td>\n      <td>Low Dim_onehot</td>\n      <td>7.0</td>\n    </tr>\n    <tr>\n      <th>9</th>\n      <td>Dataset_106</td>\n      <td>Low Dim_onehot</td>\n      <td>7.0</td>\n    </tr>\n  </tbody>\n</table>\n</div>"
     },
     "metadata": {},
     "execution_count": 6
    }
   ],
   "source": [
    "step1_df = df_report_Accuracy.groupby(['Encode_low_dimension','Dataset'], as_index=False)['cnt'].count().rename({\"cnt\":\"Total\",\"Dataset\":\"antecedentIndex\",\"Encode_low_dimension\":\"consequentIndex\"},axis = 1)[['antecedentIndex','consequentIndex','Total']]\n",
    "step2_df = df_report_Accuracy.groupby(['Encode_low_dimension','Encode_high_dimension'], as_index=False)['cnt'].count().rename({\"cnt\":\"Total\",\"Encode_low_dimension\":\"antecedentIndex\",\"Encode_high_dimension\":\"consequentIndex\"},axis = 1)[['antecedentIndex','consequentIndex','Total']]\n",
    "step3_df = df_report_Accuracy.groupby(['Encode_high_dimension','Winsorize'], as_index=False)['cnt'].count().rename({\"cnt\":\"Total\",\"Encode_high_dimension\":\"antecedentIndex\",\"Winsorize\":\"consequentIndex\"},axis = 1)[['antecedentIndex','consequentIndex','Total']]\n",
    "step4_df = df_report_Accuracy.groupby(['Winsorize','Scale'], as_index=False)['cnt'].count().rename({\"cnt\":\"Total\",\"Winsorize\":\"antecedentIndex\",\"Scale\":\"consequentIndex\"},axis = 1)[['antecedentIndex','consequentIndex','Total']]\n",
    "step5_df = df_report_Accuracy.groupby(['Scale','Level'], as_index=False)['cnt'].count().rename({\"cnt\":\"Total\",\"Scale\":\"antecedentIndex\",\"Level\":\"consequentIndex\"},axis = 1)[['antecedentIndex','consequentIndex','Total']].dropna()\n",
    "integrated_df = pd.concat([step1_df,step2_df,step3_df,step4_df,step5_df],axis = 0)\n",
    "integrated_df.head(10)"
   ]
  },
  {
   "cell_type": "code",
   "execution_count": 7,
   "metadata": {},
   "outputs": [],
   "source": [
    "label_df = pd.DataFrame(integrated_df['antecedentIndex'].append(integrated_df['consequentIndex']).drop_duplicates(),columns = {\"label\"})\n",
    "label_df['Number'] = label_df.reset_index().index\n",
    "label_list = list(label_df.label)\n",
    "\n",
    "\n",
    "\n",
    "source_df = pd.DataFrame(integrated_df['antecedentIndex'])\n",
    "source_df = source_df.merge(label_df, left_on=['antecedentIndex'], right_on = ['label'],how = 'left')\n",
    "source_list = list(source_df['Number'])\n",
    "\n",
    "\n",
    "target_df = pd.DataFrame(integrated_df['consequentIndex'])\n",
    "target_df = target_df.merge(label_df, left_on=['consequentIndex'], right_on = ['label'],how = 'left')\n",
    "target_list = list(target_df['Number'])\n",
    "\n",
    "value_list = [int(i) for i in list(integrated_df.Total)]\n"
   ]
  },
  {
   "cell_type": "code",
   "execution_count": 8,
   "metadata": {},
   "outputs": [
    {
     "output_type": "display_data",
     "data": {
      "application/vnd.plotly.v1+json": {
       "config": {
        "plotlyServerURL": "https://plot.ly"
       },
       "data": [
        {
         "link": {
          "source": [
           0,
           1,
           2,
           3,
           4,
           5,
           6,
           7,
           8,
           9,
           10,
           11,
           12,
           13,
           14,
           15,
           16,
           17,
           18,
           19,
           20,
           21,
           22,
           23,
           24,
           25,
           26,
           27,
           28,
           29,
           30,
           31,
           32,
           33,
           34,
           35,
           36,
           37,
           38,
           39,
           40,
           41,
           42,
           43,
           44,
           45,
           46,
           47,
           48,
           49,
           50,
           51,
           52,
           53,
           54,
           55,
           56,
           57,
           58,
           59,
           60,
           61,
           62,
           63,
           64,
           65,
           66,
           67,
           68,
           69,
           70,
           71,
           72,
           73,
           74,
           75,
           76,
           77,
           78,
           79,
           80,
           81,
           82,
           83,
           84,
           85,
           86,
           87,
           88,
           89,
           90,
           91,
           92,
           93,
           94,
           95,
           96,
           97,
           98,
           99,
           100,
           101,
           102,
           103,
           104,
           105,
           106,
           107,
           108,
           109,
           110,
           111,
           112,
           113,
           114,
           115,
           116,
           117,
           118,
           119,
           120,
           121,
           122,
           123,
           124,
           125,
           126,
           127,
           128,
           129,
           130,
           131,
           132,
           133,
           134,
           135,
           136,
           137,
           138,
           139,
           140,
           141,
           142,
           143,
           144,
           145,
           146,
           147,
           148,
           149,
           150,
           151,
           152,
           153,
           154,
           155,
           156,
           157,
           158,
           159,
           160,
           161,
           162,
           163,
           164,
           165,
           166,
           167,
           168,
           169,
           170,
           171,
           172,
           173,
           174,
           175,
           176,
           177,
           178,
           179,
           180,
           181,
           182,
           183,
           184,
           185,
           186,
           187,
           188,
           189,
           190,
           191,
           192,
           193,
           194,
           195,
           196,
           197,
           198,
           199,
           200,
           201,
           202,
           203,
           204,
           205,
           206,
           207,
           208,
           209,
           210,
           211,
           212,
           213,
           214,
           215,
           216,
           217,
           218,
           219,
           220,
           221,
           222,
           223,
           224,
           225,
           226,
           227,
           228,
           229,
           230,
           231,
           232,
           233,
           234,
           235,
           236,
           237,
           238,
           239,
           240,
           241,
           242,
           243,
           244,
           245,
           246,
           247,
           248,
           249,
           250,
           251,
           252,
           253,
           254,
           255,
           256,
           257,
           258,
           259,
           260,
           261,
           262,
           263,
           264,
           265,
           266,
           267,
           268,
           269,
           270,
           271,
           272,
           273,
           274,
           275,
           276,
           277,
           278,
           279,
           280,
           281,
           282,
           283,
           284,
           285,
           286,
           287,
           288,
           289,
           290,
           291,
           292,
           293,
           294,
           295,
           296,
           297,
           298,
           299,
           300,
           301,
           302,
           303,
           304,
           305,
           306,
           307,
           308,
           309,
           310,
           311,
           312,
           313,
           314,
           315,
           316,
           317,
           318,
           319,
           320,
           321,
           322,
           323,
           324,
           325,
           326,
           327,
           328,
           329,
           330,
           331,
           332,
           333,
           334,
           335,
           336,
           337,
           338,
           339,
           340,
           341,
           342,
           343,
           344,
           345,
           346,
           347,
           348,
           349,
           350,
           351,
           352,
           353,
           354,
           355,
           356,
           357,
           358,
           359,
           360,
           361,
           361,
           362,
           362,
           363,
           363,
           364,
           364,
           364,
           365,
           365
          ],
          "target": [
           360,
           360,
           360,
           360,
           360,
           360,
           360,
           360,
           360,
           360,
           360,
           360,
           360,
           360,
           360,
           360,
           360,
           360,
           360,
           360,
           360,
           360,
           360,
           360,
           360,
           360,
           360,
           360,
           360,
           360,
           360,
           360,
           360,
           360,
           360,
           360,
           360,
           360,
           360,
           360,
           360,
           360,
           360,
           360,
           360,
           360,
           360,
           360,
           360,
           360,
           360,
           360,
           360,
           360,
           360,
           360,
           360,
           360,
           360,
           360,
           360,
           360,
           360,
           360,
           360,
           360,
           360,
           360,
           360,
           360,
           360,
           360,
           360,
           360,
           360,
           360,
           360,
           360,
           360,
           360,
           360,
           360,
           360,
           360,
           360,
           360,
           360,
           360,
           360,
           360,
           360,
           360,
           360,
           360,
           360,
           360,
           360,
           360,
           360,
           360,
           360,
           360,
           360,
           360,
           360,
           360,
           360,
           360,
           360,
           360,
           360,
           360,
           360,
           360,
           360,
           360,
           360,
           360,
           360,
           360,
           360,
           360,
           360,
           360,
           360,
           360,
           360,
           360,
           360,
           360,
           360,
           360,
           360,
           360,
           360,
           360,
           360,
           360,
           360,
           360,
           360,
           360,
           360,
           360,
           360,
           360,
           360,
           360,
           360,
           360,
           360,
           360,
           360,
           360,
           360,
           360,
           360,
           360,
           360,
           360,
           360,
           360,
           360,
           360,
           360,
           360,
           360,
           360,
           360,
           360,
           360,
           360,
           360,
           360,
           360,
           360,
           360,
           360,
           360,
           360,
           360,
           360,
           360,
           360,
           360,
           360,
           360,
           360,
           360,
           360,
           360,
           360,
           360,
           360,
           360,
           360,
           360,
           360,
           360,
           360,
           360,
           360,
           360,
           360,
           360,
           360,
           360,
           360,
           360,
           360,
           360,
           360,
           360,
           360,
           360,
           360,
           360,
           360,
           360,
           360,
           360,
           360,
           360,
           360,
           360,
           360,
           360,
           360,
           360,
           360,
           360,
           360,
           360,
           360,
           360,
           360,
           360,
           360,
           360,
           360,
           360,
           360,
           360,
           360,
           360,
           360,
           360,
           360,
           360,
           360,
           360,
           360,
           360,
           360,
           360,
           360,
           360,
           360,
           360,
           360,
           360,
           360,
           360,
           360,
           360,
           360,
           360,
           360,
           360,
           360,
           360,
           360,
           360,
           360,
           360,
           360,
           360,
           360,
           360,
           360,
           360,
           360,
           360,
           360,
           360,
           360,
           360,
           360,
           360,
           360,
           360,
           360,
           360,
           360,
           360,
           360,
           360,
           360,
           360,
           360,
           360,
           360,
           360,
           360,
           360,
           360,
           360,
           360,
           360,
           360,
           360,
           360,
           360,
           360,
           360,
           360,
           360,
           360,
           360,
           360,
           360,
           360,
           360,
           360,
           360,
           360,
           360,
           360,
           360,
           360,
           360,
           360,
           360,
           360,
           360,
           360,
           360,
           360,
           360,
           360,
           360,
           360,
           360,
           360,
           360,
           360,
           360,
           360,
           360,
           360,
           360,
           360,
           360,
           360,
           360,
           360,
           360,
           360,
           360,
           360,
           361,
           362,
           363,
           364,
           365,
           364,
           365,
           366,
           367,
           368,
           367,
           368
          ],
          "value": [
           7,
           7,
           7,
           7,
           7,
           7,
           7,
           7,
           7,
           7,
           7,
           7,
           7,
           7,
           7,
           7,
           7,
           7,
           7,
           7,
           7,
           7,
           7,
           7,
           7,
           7,
           7,
           7,
           7,
           7,
           7,
           7,
           7,
           7,
           7,
           7,
           7,
           7,
           7,
           7,
           7,
           7,
           7,
           7,
           7,
           7,
           7,
           7,
           7,
           7,
           7,
           7,
           7,
           7,
           7,
           7,
           7,
           7,
           7,
           7,
           7,
           7,
           7,
           7,
           7,
           7,
           7,
           7,
           7,
           7,
           7,
           7,
           7,
           7,
           7,
           7,
           7,
           7,
           7,
           7,
           7,
           7,
           7,
           7,
           7,
           7,
           7,
           7,
           7,
           7,
           7,
           7,
           7,
           7,
           7,
           7,
           7,
           7,
           7,
           7,
           7,
           7,
           7,
           7,
           7,
           7,
           7,
           7,
           7,
           7,
           7,
           7,
           7,
           7,
           7,
           7,
           7,
           7,
           7,
           7,
           7,
           7,
           7,
           7,
           7,
           7,
           7,
           7,
           7,
           7,
           7,
           7,
           7,
           7,
           7,
           7,
           7,
           7,
           7,
           7,
           7,
           7,
           7,
           7,
           7,
           7,
           7,
           7,
           7,
           7,
           7,
           7,
           7,
           7,
           7,
           7,
           7,
           7,
           7,
           7,
           7,
           7,
           7,
           7,
           7,
           7,
           7,
           7,
           7,
           7,
           7,
           7,
           7,
           7,
           7,
           7,
           7,
           7,
           7,
           7,
           7,
           7,
           7,
           7,
           7,
           7,
           7,
           7,
           7,
           7,
           7,
           7,
           7,
           7,
           7,
           7,
           7,
           7,
           7,
           7,
           7,
           7,
           7,
           7,
           7,
           7,
           7,
           7,
           7,
           7,
           7,
           7,
           7,
           7,
           7,
           7,
           7,
           7,
           7,
           7,
           7,
           7,
           7,
           7,
           7,
           7,
           7,
           7,
           7,
           7,
           7,
           7,
           7,
           7,
           7,
           7,
           7,
           7,
           7,
           7,
           7,
           7,
           7,
           7,
           7,
           7,
           7,
           7,
           7,
           7,
           7,
           7,
           7,
           7,
           7,
           7,
           7,
           7,
           7,
           7,
           7,
           7,
           7,
           7,
           7,
           7,
           7,
           7,
           7,
           7,
           7,
           7,
           7,
           7,
           7,
           7,
           7,
           7,
           7,
           7,
           7,
           7,
           7,
           7,
           7,
           7,
           7,
           7,
           7,
           7,
           7,
           7,
           7,
           7,
           7,
           7,
           7,
           7,
           7,
           7,
           7,
           7,
           7,
           7,
           7,
           7,
           7,
           7,
           7,
           7,
           7,
           7,
           7,
           7,
           7,
           7,
           7,
           7,
           7,
           7,
           7,
           7,
           7,
           7,
           7,
           7,
           7,
           7,
           7,
           7,
           7,
           7,
           7,
           7,
           7,
           7,
           7,
           7,
           7,
           7,
           7,
           7,
           7,
           7,
           7,
           7,
           7,
           7,
           7,
           7,
           7,
           7,
           7,
           7,
           7,
           7,
           7,
           7,
           7,
           7,
           2520,
           1260,
           1260,
           630,
           630,
           630,
           630,
           148,
           902,
           210,
           1022,
           238
          ]
         },
         "node": {
          "color": "rgb(71,172,55)",
          "label": [
           "Dataset_0",
           "Dataset_1",
           "Dataset_10",
           "Dataset_100",
           "Dataset_101",
           "Dataset_102",
           "Dataset_103",
           "Dataset_104",
           "Dataset_105",
           "Dataset_106",
           "Dataset_107",
           "Dataset_108",
           "Dataset_109",
           "Dataset_11",
           "Dataset_110",
           "Dataset_111",
           "Dataset_112",
           "Dataset_113",
           "Dataset_114",
           "Dataset_115",
           "Dataset_116",
           "Dataset_117",
           "Dataset_118",
           "Dataset_119",
           "Dataset_12",
           "Dataset_120",
           "Dataset_121",
           "Dataset_122",
           "Dataset_123",
           "Dataset_124",
           "Dataset_125",
           "Dataset_126",
           "Dataset_127",
           "Dataset_128",
           "Dataset_129",
           "Dataset_13",
           "Dataset_130",
           "Dataset_131",
           "Dataset_132",
           "Dataset_133",
           "Dataset_134",
           "Dataset_135",
           "Dataset_136",
           "Dataset_137",
           "Dataset_138",
           "Dataset_139",
           "Dataset_14",
           "Dataset_140",
           "Dataset_141",
           "Dataset_142",
           "Dataset_143",
           "Dataset_144",
           "Dataset_145",
           "Dataset_146",
           "Dataset_147",
           "Dataset_148",
           "Dataset_149",
           "Dataset_15",
           "Dataset_150",
           "Dataset_151",
           "Dataset_152",
           "Dataset_153",
           "Dataset_154",
           "Dataset_155",
           "Dataset_156",
           "Dataset_157",
           "Dataset_158",
           "Dataset_159",
           "Dataset_16",
           "Dataset_160",
           "Dataset_161",
           "Dataset_162",
           "Dataset_163",
           "Dataset_164",
           "Dataset_165",
           "Dataset_166",
           "Dataset_167",
           "Dataset_168",
           "Dataset_169",
           "Dataset_17",
           "Dataset_170",
           "Dataset_171",
           "Dataset_172",
           "Dataset_173",
           "Dataset_174",
           "Dataset_175",
           "Dataset_176",
           "Dataset_177",
           "Dataset_178",
           "Dataset_179",
           "Dataset_18",
           "Dataset_180",
           "Dataset_181",
           "Dataset_182",
           "Dataset_183",
           "Dataset_184",
           "Dataset_185",
           "Dataset_186",
           "Dataset_187",
           "Dataset_188",
           "Dataset_189",
           "Dataset_19",
           "Dataset_190",
           "Dataset_191",
           "Dataset_192",
           "Dataset_193",
           "Dataset_194",
           "Dataset_195",
           "Dataset_196",
           "Dataset_197",
           "Dataset_198",
           "Dataset_199",
           "Dataset_2",
           "Dataset_20",
           "Dataset_200",
           "Dataset_201",
           "Dataset_202",
           "Dataset_203",
           "Dataset_204",
           "Dataset_205",
           "Dataset_206",
           "Dataset_207",
           "Dataset_208",
           "Dataset_209",
           "Dataset_21",
           "Dataset_210",
           "Dataset_211",
           "Dataset_212",
           "Dataset_213",
           "Dataset_214",
           "Dataset_215",
           "Dataset_216",
           "Dataset_217",
           "Dataset_218",
           "Dataset_219",
           "Dataset_22",
           "Dataset_220",
           "Dataset_221",
           "Dataset_222",
           "Dataset_223",
           "Dataset_224",
           "Dataset_225",
           "Dataset_226",
           "Dataset_227",
           "Dataset_228",
           "Dataset_229",
           "Dataset_23",
           "Dataset_230",
           "Dataset_231",
           "Dataset_232",
           "Dataset_233",
           "Dataset_234",
           "Dataset_235",
           "Dataset_236",
           "Dataset_237",
           "Dataset_238",
           "Dataset_239",
           "Dataset_24",
           "Dataset_240",
           "Dataset_241",
           "Dataset_242",
           "Dataset_243",
           "Dataset_244",
           "Dataset_245",
           "Dataset_246",
           "Dataset_247",
           "Dataset_248",
           "Dataset_249",
           "Dataset_25",
           "Dataset_250",
           "Dataset_251",
           "Dataset_252",
           "Dataset_253",
           "Dataset_254",
           "Dataset_255",
           "Dataset_256",
           "Dataset_257",
           "Dataset_258",
           "Dataset_259",
           "Dataset_26",
           "Dataset_260",
           "Dataset_261",
           "Dataset_262",
           "Dataset_263",
           "Dataset_264",
           "Dataset_265",
           "Dataset_266",
           "Dataset_267",
           "Dataset_268",
           "Dataset_269",
           "Dataset_27",
           "Dataset_270",
           "Dataset_271",
           "Dataset_272",
           "Dataset_273",
           "Dataset_274",
           "Dataset_275",
           "Dataset_276",
           "Dataset_277",
           "Dataset_278",
           "Dataset_279",
           "Dataset_28",
           "Dataset_280",
           "Dataset_281",
           "Dataset_282",
           "Dataset_283",
           "Dataset_284",
           "Dataset_285",
           "Dataset_286",
           "Dataset_287",
           "Dataset_288",
           "Dataset_289",
           "Dataset_29",
           "Dataset_290",
           "Dataset_291",
           "Dataset_292",
           "Dataset_293",
           "Dataset_294",
           "Dataset_295",
           "Dataset_296",
           "Dataset_297",
           "Dataset_298",
           "Dataset_299",
           "Dataset_3",
           "Dataset_30",
           "Dataset_300",
           "Dataset_301",
           "Dataset_302",
           "Dataset_303",
           "Dataset_304",
           "Dataset_305",
           "Dataset_306",
           "Dataset_307",
           "Dataset_308",
           "Dataset_309",
           "Dataset_31",
           "Dataset_310",
           "Dataset_311",
           "Dataset_312",
           "Dataset_313",
           "Dataset_314",
           "Dataset_315",
           "Dataset_316",
           "Dataset_317",
           "Dataset_318",
           "Dataset_319",
           "Dataset_32",
           "Dataset_320",
           "Dataset_321",
           "Dataset_322",
           "Dataset_323",
           "Dataset_324",
           "Dataset_325",
           "Dataset_326",
           "Dataset_327",
           "Dataset_328",
           "Dataset_329",
           "Dataset_33",
           "Dataset_330",
           "Dataset_331",
           "Dataset_332",
           "Dataset_333",
           "Dataset_334",
           "Dataset_335",
           "Dataset_336",
           "Dataset_337",
           "Dataset_338",
           "Dataset_339",
           "Dataset_34",
           "Dataset_340",
           "Dataset_341",
           "Dataset_342",
           "Dataset_343",
           "Dataset_344",
           "Dataset_345",
           "Dataset_346",
           "Dataset_347",
           "Dataset_348",
           "Dataset_349",
           "Dataset_35",
           "Dataset_350",
           "Dataset_351",
           "Dataset_352",
           "Dataset_353",
           "Dataset_354",
           "Dataset_355",
           "Dataset_356",
           "Dataset_357",
           "Dataset_358",
           "Dataset_359",
           "Dataset_36",
           "Dataset_37",
           "Dataset_38",
           "Dataset_39",
           "Dataset_4",
           "Dataset_40",
           "Dataset_41",
           "Dataset_42",
           "Dataset_43",
           "Dataset_44",
           "Dataset_45",
           "Dataset_46",
           "Dataset_47",
           "Dataset_48",
           "Dataset_49",
           "Dataset_5",
           "Dataset_50",
           "Dataset_51",
           "Dataset_52",
           "Dataset_53",
           "Dataset_54",
           "Dataset_55",
           "Dataset_56",
           "Dataset_57",
           "Dataset_58",
           "Dataset_59",
           "Dataset_6",
           "Dataset_60",
           "Dataset_61",
           "Dataset_62",
           "Dataset_63",
           "Dataset_64",
           "Dataset_65",
           "Dataset_66",
           "Dataset_67",
           "Dataset_68",
           "Dataset_69",
           "Dataset_7",
           "Dataset_70",
           "Dataset_71",
           "Dataset_72",
           "Dataset_73",
           "Dataset_74",
           "Dataset_75",
           "Dataset_76",
           "Dataset_77",
           "Dataset_78",
           "Dataset_79",
           "Dataset_8",
           "Dataset_80",
           "Dataset_81",
           "Dataset_82",
           "Dataset_83",
           "Dataset_84",
           "Dataset_85",
           "Dataset_86",
           "Dataset_87",
           "Dataset_88",
           "Dataset_89",
           "Dataset_9",
           "Dataset_90",
           "Dataset_91",
           "Dataset_92",
           "Dataset_93",
           "Dataset_94",
           "Dataset_95",
           "Dataset_96",
           "Dataset_97",
           "Dataset_98",
           "Dataset_99",
           "Low Dim_onehot",
           "High Dim_No Encoder",
           "Winsorize_0",
           "Winsorize_1",
           "Scale_No Scaler",
           "Scale_standard",
           "Low Accuracy",
           "High Accuracy",
           "Top Accuracy"
          ],
          "line": {
           "color": "rgb(25,100,90)",
           "width": 0.5
          },
          "pad": 15,
          "thickness": 10
         },
         "type": "sankey"
        }
       ],
       "layout": {
        "font": {
         "size": 8
        },
        "template": {
         "data": {
          "bar": [
           {
            "error_x": {
             "color": "#2a3f5f"
            },
            "error_y": {
             "color": "#2a3f5f"
            },
            "marker": {
             "line": {
              "color": "#E5ECF6",
              "width": 0.5
             }
            },
            "type": "bar"
           }
          ],
          "barpolar": [
           {
            "marker": {
             "line": {
              "color": "#E5ECF6",
              "width": 0.5
             }
            },
            "type": "barpolar"
           }
          ],
          "carpet": [
           {
            "aaxis": {
             "endlinecolor": "#2a3f5f",
             "gridcolor": "white",
             "linecolor": "white",
             "minorgridcolor": "white",
             "startlinecolor": "#2a3f5f"
            },
            "baxis": {
             "endlinecolor": "#2a3f5f",
             "gridcolor": "white",
             "linecolor": "white",
             "minorgridcolor": "white",
             "startlinecolor": "#2a3f5f"
            },
            "type": "carpet"
           }
          ],
          "choropleth": [
           {
            "colorbar": {
             "outlinewidth": 0,
             "ticks": ""
            },
            "type": "choropleth"
           }
          ],
          "contour": [
           {
            "colorbar": {
             "outlinewidth": 0,
             "ticks": ""
            },
            "colorscale": [
             [
              0,
              "#0d0887"
             ],
             [
              0.1111111111111111,
              "#46039f"
             ],
             [
              0.2222222222222222,
              "#7201a8"
             ],
             [
              0.3333333333333333,
              "#9c179e"
             ],
             [
              0.4444444444444444,
              "#bd3786"
             ],
             [
              0.5555555555555556,
              "#d8576b"
             ],
             [
              0.6666666666666666,
              "#ed7953"
             ],
             [
              0.7777777777777778,
              "#fb9f3a"
             ],
             [
              0.8888888888888888,
              "#fdca26"
             ],
             [
              1,
              "#f0f921"
             ]
            ],
            "type": "contour"
           }
          ],
          "contourcarpet": [
           {
            "colorbar": {
             "outlinewidth": 0,
             "ticks": ""
            },
            "type": "contourcarpet"
           }
          ],
          "heatmap": [
           {
            "colorbar": {
             "outlinewidth": 0,
             "ticks": ""
            },
            "colorscale": [
             [
              0,
              "#0d0887"
             ],
             [
              0.1111111111111111,
              "#46039f"
             ],
             [
              0.2222222222222222,
              "#7201a8"
             ],
             [
              0.3333333333333333,
              "#9c179e"
             ],
             [
              0.4444444444444444,
              "#bd3786"
             ],
             [
              0.5555555555555556,
              "#d8576b"
             ],
             [
              0.6666666666666666,
              "#ed7953"
             ],
             [
              0.7777777777777778,
              "#fb9f3a"
             ],
             [
              0.8888888888888888,
              "#fdca26"
             ],
             [
              1,
              "#f0f921"
             ]
            ],
            "type": "heatmap"
           }
          ],
          "heatmapgl": [
           {
            "colorbar": {
             "outlinewidth": 0,
             "ticks": ""
            },
            "colorscale": [
             [
              0,
              "#0d0887"
             ],
             [
              0.1111111111111111,
              "#46039f"
             ],
             [
              0.2222222222222222,
              "#7201a8"
             ],
             [
              0.3333333333333333,
              "#9c179e"
             ],
             [
              0.4444444444444444,
              "#bd3786"
             ],
             [
              0.5555555555555556,
              "#d8576b"
             ],
             [
              0.6666666666666666,
              "#ed7953"
             ],
             [
              0.7777777777777778,
              "#fb9f3a"
             ],
             [
              0.8888888888888888,
              "#fdca26"
             ],
             [
              1,
              "#f0f921"
             ]
            ],
            "type": "heatmapgl"
           }
          ],
          "histogram": [
           {
            "marker": {
             "colorbar": {
              "outlinewidth": 0,
              "ticks": ""
             }
            },
            "type": "histogram"
           }
          ],
          "histogram2d": [
           {
            "colorbar": {
             "outlinewidth": 0,
             "ticks": ""
            },
            "colorscale": [
             [
              0,
              "#0d0887"
             ],
             [
              0.1111111111111111,
              "#46039f"
             ],
             [
              0.2222222222222222,
              "#7201a8"
             ],
             [
              0.3333333333333333,
              "#9c179e"
             ],
             [
              0.4444444444444444,
              "#bd3786"
             ],
             [
              0.5555555555555556,
              "#d8576b"
             ],
             [
              0.6666666666666666,
              "#ed7953"
             ],
             [
              0.7777777777777778,
              "#fb9f3a"
             ],
             [
              0.8888888888888888,
              "#fdca26"
             ],
             [
              1,
              "#f0f921"
             ]
            ],
            "type": "histogram2d"
           }
          ],
          "histogram2dcontour": [
           {
            "colorbar": {
             "outlinewidth": 0,
             "ticks": ""
            },
            "colorscale": [
             [
              0,
              "#0d0887"
             ],
             [
              0.1111111111111111,
              "#46039f"
             ],
             [
              0.2222222222222222,
              "#7201a8"
             ],
             [
              0.3333333333333333,
              "#9c179e"
             ],
             [
              0.4444444444444444,
              "#bd3786"
             ],
             [
              0.5555555555555556,
              "#d8576b"
             ],
             [
              0.6666666666666666,
              "#ed7953"
             ],
             [
              0.7777777777777778,
              "#fb9f3a"
             ],
             [
              0.8888888888888888,
              "#fdca26"
             ],
             [
              1,
              "#f0f921"
             ]
            ],
            "type": "histogram2dcontour"
           }
          ],
          "mesh3d": [
           {
            "colorbar": {
             "outlinewidth": 0,
             "ticks": ""
            },
            "type": "mesh3d"
           }
          ],
          "parcoords": [
           {
            "line": {
             "colorbar": {
              "outlinewidth": 0,
              "ticks": ""
             }
            },
            "type": "parcoords"
           }
          ],
          "pie": [
           {
            "automargin": true,
            "type": "pie"
           }
          ],
          "scatter": [
           {
            "marker": {
             "colorbar": {
              "outlinewidth": 0,
              "ticks": ""
             }
            },
            "type": "scatter"
           }
          ],
          "scatter3d": [
           {
            "line": {
             "colorbar": {
              "outlinewidth": 0,
              "ticks": ""
             }
            },
            "marker": {
             "colorbar": {
              "outlinewidth": 0,
              "ticks": ""
             }
            },
            "type": "scatter3d"
           }
          ],
          "scattercarpet": [
           {
            "marker": {
             "colorbar": {
              "outlinewidth": 0,
              "ticks": ""
             }
            },
            "type": "scattercarpet"
           }
          ],
          "scattergeo": [
           {
            "marker": {
             "colorbar": {
              "outlinewidth": 0,
              "ticks": ""
             }
            },
            "type": "scattergeo"
           }
          ],
          "scattergl": [
           {
            "marker": {
             "colorbar": {
              "outlinewidth": 0,
              "ticks": ""
             }
            },
            "type": "scattergl"
           }
          ],
          "scattermapbox": [
           {
            "marker": {
             "colorbar": {
              "outlinewidth": 0,
              "ticks": ""
             }
            },
            "type": "scattermapbox"
           }
          ],
          "scatterpolar": [
           {
            "marker": {
             "colorbar": {
              "outlinewidth": 0,
              "ticks": ""
             }
            },
            "type": "scatterpolar"
           }
          ],
          "scatterpolargl": [
           {
            "marker": {
             "colorbar": {
              "outlinewidth": 0,
              "ticks": ""
             }
            },
            "type": "scatterpolargl"
           }
          ],
          "scatterternary": [
           {
            "marker": {
             "colorbar": {
              "outlinewidth": 0,
              "ticks": ""
             }
            },
            "type": "scatterternary"
           }
          ],
          "surface": [
           {
            "colorbar": {
             "outlinewidth": 0,
             "ticks": ""
            },
            "colorscale": [
             [
              0,
              "#0d0887"
             ],
             [
              0.1111111111111111,
              "#46039f"
             ],
             [
              0.2222222222222222,
              "#7201a8"
             ],
             [
              0.3333333333333333,
              "#9c179e"
             ],
             [
              0.4444444444444444,
              "#bd3786"
             ],
             [
              0.5555555555555556,
              "#d8576b"
             ],
             [
              0.6666666666666666,
              "#ed7953"
             ],
             [
              0.7777777777777778,
              "#fb9f3a"
             ],
             [
              0.8888888888888888,
              "#fdca26"
             ],
             [
              1,
              "#f0f921"
             ]
            ],
            "type": "surface"
           }
          ],
          "table": [
           {
            "cells": {
             "fill": {
              "color": "#EBF0F8"
             },
             "line": {
              "color": "white"
             }
            },
            "header": {
             "fill": {
              "color": "#C8D4E3"
             },
             "line": {
              "color": "white"
             }
            },
            "type": "table"
           }
          ]
         },
         "layout": {
          "annotationdefaults": {
           "arrowcolor": "#2a3f5f",
           "arrowhead": 0,
           "arrowwidth": 1
          },
          "coloraxis": {
           "colorbar": {
            "outlinewidth": 0,
            "ticks": ""
           }
          },
          "colorscale": {
           "diverging": [
            [
             0,
             "#8e0152"
            ],
            [
             0.1,
             "#c51b7d"
            ],
            [
             0.2,
             "#de77ae"
            ],
            [
             0.3,
             "#f1b6da"
            ],
            [
             0.4,
             "#fde0ef"
            ],
            [
             0.5,
             "#f7f7f7"
            ],
            [
             0.6,
             "#e6f5d0"
            ],
            [
             0.7,
             "#b8e186"
            ],
            [
             0.8,
             "#7fbc41"
            ],
            [
             0.9,
             "#4d9221"
            ],
            [
             1,
             "#276419"
            ]
           ],
           "sequential": [
            [
             0,
             "#0d0887"
            ],
            [
             0.1111111111111111,
             "#46039f"
            ],
            [
             0.2222222222222222,
             "#7201a8"
            ],
            [
             0.3333333333333333,
             "#9c179e"
            ],
            [
             0.4444444444444444,
             "#bd3786"
            ],
            [
             0.5555555555555556,
             "#d8576b"
            ],
            [
             0.6666666666666666,
             "#ed7953"
            ],
            [
             0.7777777777777778,
             "#fb9f3a"
            ],
            [
             0.8888888888888888,
             "#fdca26"
            ],
            [
             1,
             "#f0f921"
            ]
           ],
           "sequentialminus": [
            [
             0,
             "#0d0887"
            ],
            [
             0.1111111111111111,
             "#46039f"
            ],
            [
             0.2222222222222222,
             "#7201a8"
            ],
            [
             0.3333333333333333,
             "#9c179e"
            ],
            [
             0.4444444444444444,
             "#bd3786"
            ],
            [
             0.5555555555555556,
             "#d8576b"
            ],
            [
             0.6666666666666666,
             "#ed7953"
            ],
            [
             0.7777777777777778,
             "#fb9f3a"
            ],
            [
             0.8888888888888888,
             "#fdca26"
            ],
            [
             1,
             "#f0f921"
            ]
           ]
          },
          "colorway": [
           "#636efa",
           "#EF553B",
           "#00cc96",
           "#ab63fa",
           "#FFA15A",
           "#19d3f3",
           "#FF6692",
           "#B6E880",
           "#FF97FF",
           "#FECB52"
          ],
          "font": {
           "color": "#2a3f5f"
          },
          "geo": {
           "bgcolor": "white",
           "lakecolor": "white",
           "landcolor": "#E5ECF6",
           "showlakes": true,
           "showland": true,
           "subunitcolor": "white"
          },
          "hoverlabel": {
           "align": "left"
          },
          "hovermode": "closest",
          "mapbox": {
           "style": "light"
          },
          "paper_bgcolor": "white",
          "plot_bgcolor": "#E5ECF6",
          "polar": {
           "angularaxis": {
            "gridcolor": "white",
            "linecolor": "white",
            "ticks": ""
           },
           "bgcolor": "#E5ECF6",
           "radialaxis": {
            "gridcolor": "white",
            "linecolor": "white",
            "ticks": ""
           }
          },
          "scene": {
           "xaxis": {
            "backgroundcolor": "#E5ECF6",
            "gridcolor": "white",
            "gridwidth": 2,
            "linecolor": "white",
            "showbackground": true,
            "ticks": "",
            "zerolinecolor": "white"
           },
           "yaxis": {
            "backgroundcolor": "#E5ECF6",
            "gridcolor": "white",
            "gridwidth": 2,
            "linecolor": "white",
            "showbackground": true,
            "ticks": "",
            "zerolinecolor": "white"
           },
           "zaxis": {
            "backgroundcolor": "#E5ECF6",
            "gridcolor": "white",
            "gridwidth": 2,
            "linecolor": "white",
            "showbackground": true,
            "ticks": "",
            "zerolinecolor": "white"
           }
          },
          "shapedefaults": {
           "line": {
            "color": "#2a3f5f"
           }
          },
          "ternary": {
           "aaxis": {
            "gridcolor": "white",
            "linecolor": "white",
            "ticks": ""
           },
           "baxis": {
            "gridcolor": "white",
            "linecolor": "white",
            "ticks": ""
           },
           "bgcolor": "#E5ECF6",
           "caxis": {
            "gridcolor": "white",
            "linecolor": "white",
            "ticks": ""
           }
          },
          "title": {
           "x": 0.05
          },
          "xaxis": {
           "automargin": true,
           "gridcolor": "white",
           "linecolor": "white",
           "ticks": "",
           "title": {
            "standoff": 15
           },
           "zerolinecolor": "white",
           "zerolinewidth": 2
          },
          "yaxis": {
           "automargin": true,
           "gridcolor": "white",
           "linecolor": "white",
           "ticks": "",
           "title": {
            "standoff": 15
           },
           "zerolinecolor": "white",
           "zerolinewidth": 2
          }
         }
        },
        "title": {
         "text": "Pipeline Cluster Traversal Experiments - autoViz Model Retrieval Diagram <a href=\"https://www.linkedin.com/in/lei-tony-dong/\"> ©Tony Dong</a>"
        }
       }
      }
     },
     "metadata": {}
    },
    {
     "output_type": "execute_result",
     "data": {
      "text/plain": "'temp-plot.html'"
     },
     "metadata": {},
     "execution_count": 8
    }
   ],
   "source": [
    "import plotly.graph_objects as go\n",
    "\n",
    "fig = go.Figure(data=[go.Sankey(\n",
    "    node = dict(\n",
    "      pad = 15,\n",
    "      thickness = 10,\n",
    "      line = dict(color = 'rgb(25,100,90)', width = 0.5),\n",
    "      label = label_list,\n",
    "      color = 'rgb(71,172,55)'\n",
    "    ),\n",
    "    link = dict(\n",
    "      source = source_list, \n",
    "      target = target_list,\n",
    "      value = value_list\n",
    "  ))])\n",
    "\n",
    "fig.update_layout(title = 'Pipeline Cluster Traversal Experiments - autoViz Model Retrieval Diagram <a href=\"https://www.linkedin.com/in/lei-tony-dong/\"> ©Tony Dong</a>', font_size=8)\n",
    "from plotly.offline import plot\n",
    "plot(fig)\n"
   ]
  },
  {
   "cell_type": "code",
   "execution_count": 37,
   "metadata": {
    "tags": []
   },
   "outputs": [
    {
     "output_type": "stream",
     "name": "stderr",
     "text": "'pip' is not recognized as an internal or external command,\noperable program or batch file.\n"
    }
   ],
   "source": []
  },
  {
   "cell_type": "code",
   "execution_count": 13,
   "metadata": {
    "tags": []
   },
   "outputs": [
    {
     "output_type": "execute_result",
     "data": {
      "text/plain": "[('learning_rate', 1),\n ('max_depth', 2),\n ('n_estimators', 50),\n ('random_state', 13)]"
     },
     "metadata": {},
     "execution_count": 13
    }
   ],
   "source": [
    "a = {'learning_rate': 1, 'max_depth': 2, 'n_estimators': 50, 'random_state': 13}\n",
    "lis = a.items()\n",
    "[i for i in lis]"
   ]
  }
 ]
}