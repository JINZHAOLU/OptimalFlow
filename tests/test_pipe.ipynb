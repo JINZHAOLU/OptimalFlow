{
 "metadata": {
  "language_info": {
   "codemirror_mode": {
    "name": "ipython",
    "version": 3
   },
   "file_extension": ".py",
   "mimetype": "text/x-python",
   "name": "python",
   "nbconvert_exporter": "python",
   "pygments_lexer": "ipython3",
   "version": 3
  },
  "orig_nbformat": 2,
  "kernelspec": {
   "name": "python_defaultSpec_1596738226712",
   "display_name": "Python 3.8.4 64-bit"
  }
 },
 "nbformat": 4,
 "nbformat_minor": 2,
 "cells": [
  {
   "cell_type": "code",
   "execution_count": 5,
   "metadata": {
    "tags": []
   },
   "outputs": [
    {
     "output_type": "stream",
     "name": "stdout",
     "text": "Done with the parameters reset.\nPrevious Parameters are: {'hidden_layer_sizes': [10, 50, 100], 'activation': ['identity', 'relu', 'tanh', 'logistic'], 'learning_rate': ['constant', 'invscaling', 'adaptive'], 'solver': ['lbfgs', 'sgd', 'adam']}\nCurrent Parameters are updated as: {'hidden_layer_sizes': [10], 'activation': ['relu'], 'learning_rate': ['constant'], 'solver': ['sgd']}\nDone with the parameters update.\nPrevious Parameters are: {'kernel': ['linear', 'poly', 'rbf', 'sigmoid'], 'C': [0.1, 1, 10]}\nCurrent Parameters are updated as: {'C': [0.1], 'kernel': ['linear']}\nDone with the parameters update.\nPrevious Parameters are: {'n_estimators': [50, 100, 150], 'learning_rate': [0.1, 1, 10, 100]}\nCurrent Parameters are updated as: {'n_estimators': [50], 'learning_rate': [1]}\nDone with the parameters update.\nPrevious Parameters are: {'n_estimators': [5, 50, 250], 'max_depth': [2, 4, 8, 16, 32]}\nCurrent Parameters are updated as: {'n_estimators': [50], 'max_depth': [2]}\nDone with the parameters update.\nPrevious Parameters are: {'n_estimators': [50, 100, 150, 200, 250, 300], 'max_depth': [1, 3, 5, 7, 9], 'learning_rate': [0.01, 0.1, 0.2, 0.3, 0.4]}\nCurrent Parameters are updated as: {'n_estimators': [50], 'max_depth': [2], 'learning_rate': [1]}\nDone with the parameters update.\nPrevious Parameters are: {'n_estimators': [50, 100, 150, 200, 250, 300], 'max_depth': [3, 5, 7, 9], 'learning_rate': [0.01, 0.1, 0.2, 0.3, 0.4], 'verbosity': [0]}\nCurrent Parameters are updated as: {'n_estimators': [50], 'max_depth': [2], 'learning_rate': [1]}\nDone with the parameters update.\n"
    }
   ],
   "source": [
    "\n",
    "from dynapipe.utilis_func import pipeline_splitting_rule, update_parameters,reset_parameters\n",
    "reset_parameters()\n",
    "\n",
    "update_parameters(mode = \"cls\", estimator_name = \"mlp\", hidden_layer_sizes = [10],activation=[\"relu\"],learning_rate = [\"constant\"],solver = [\"sgd\"])\n",
    "update_parameters(mode = \"cls\", estimator_name = \"svm\", C=[0.1],kernel=[\"linear\"])\n",
    "update_parameters(mode = \"cls\", estimator_name = \"ada\", n_estimators =[50],learning_rate=[1])\n",
    "update_parameters(mode = \"cls\", estimator_name = \"rf\", n_estimators =[50],max_depth=[2])\n",
    "update_parameters(mode = \"cls\", estimator_name = \"gb\", n_estimators =[50],max_depth=[2],learning_rate=[1])\n",
    "update_parameters(mode = \"cls\", estimator_name = \"xgb\", n_estimators =[50],max_depth=[2],learning_rate=[1])\n",
    "\n",
    "from dynapipe.autoPipe import autoPipe\n",
    "import pandas as pd\n",
    "from dynapipe.funcPP import PPtools\n",
    "from dynapipe.autoPP import dynaPreprocessing\n",
    "\n",
    "from dynapipe.autoFS import dynaFS_clf\n",
    "from dynapipe.autoCV import evaluate_model,dynaClassifier,dynaRegressor\n",
    "df = pd.read_csv('./data/preprocessing/breast_cancer.csv')\n",
    "custom_parameters = {\n",
    "    \"scaler\" : [\"None\", \"standard\"],\n",
    "    # threshold number of category dimension\n",
    "    \"encode_band\" : [10],\n",
    "    # low dimension encoding\n",
    "    \"low_encode\" : [\"onehot\",\"label\"], \n",
    "    # high dimension encoding\n",
    "    \"high_encode\" : [\"frequency\", \"mean\"],\n",
    "    \"winsorizer\" : [(0.05,0.05)],\n",
    "    \"sparsity\" : [0.75],\n",
    "    \"cols\" : [50]\n",
    "}"
   ]
  },
  {
   "cell_type": "code",
   "execution_count": 6,
   "metadata": {},
   "outputs": [],
   "source": [
    "pipe = autoPipe(\n",
    "[(\"autoPP\",dynaPreprocessing(custom_parameters = custom_parameters, label_col = 'diagnosis', model_type = \"cls\")),\n",
    "(\"datasets_splitting\",pipeline_splitting_rule(val_size = 0.2, test_size = 0.2, random_state = 13)),\n",
    "(\"autoFS\",dynaFS_clf(fs_num = 5, random_state=13, cv = 5, in_pipeline = True, input_from_file = False)),\n",
    "(\"autoCV\",dynaClassifier(random_state = 13,cv_num = 5,in_pipeline = True, input_from_file = False)),\n",
    "(\"model_evaluate\",evaluate_model(model_type = \"cls\"))])"
   ]
  },
  {
   "cell_type": "code",
   "execution_count": 7,
   "metadata": {
    "tags": []
   },
   "outputs": [
    {
     "output_type": "stream",
     "name": "stdout",
     "text": "Now in Progress - autoFS & autoCV Iteration: Estimate about 0.0 minutes left  [####################] 100.0%\nThe top 5 Models with Best Performance Metrics:\n      Dataset Model_Name  \\\n1   Dataset_0  svm         \n6   Dataset_0  xgb         \n55  Dataset_7  xgb         \n8   Dataset_1  svm         \n22  Dataset_3  svm         \n\n                                                                         Best_Parameters  \\\n1   [('C', 0.1), ('kernel', 'linear')]                                                     \n6   [('learning_rate', 1), ('max_depth', 2), ('n_estimators', 50), ('random_state', 13)]   \n55  [('learning_rate', 1), ('max_depth', 2), ('n_estimators', 50), ('random_state', 13)]   \n8   [('C', 0.1), ('kernel', 'linear')]                                                     \n22  [('C', 0.1), ('kernel', 'linear')]                                                     \n\n    Accuracy  Precision  Recall  Latency  \n1   0.930     0.889      0.96    3.0      \n6   0.912     0.955      0.84    2.4      \n55  0.912     0.955      0.84    3.0      \n8   0.912     0.917      0.88    2.0      \n22  0.912     0.917      0.88    4.0      \n"
    }
   ],
   "source": [
    "from IPython.core.interactiveshell import InteractiveShell\n",
    "InteractiveShell.ast_node_interactivity = \"all\"\n",
    "pd.set_option('display.max_columns',None,'display.max_rows',None)\n",
    "pd.set_option('max_colwidth', -1)\n",
    "\n",
    "DICT_PREPROCESSING,DICT_FEATURE_SELECTION,DICT_MODELS_EVALUATION,DICT_DATA,dyna_report= pipe.fit(df)"
   ]
  },
  {
   "cell_type": "code",
   "execution_count": 8,
   "metadata": {},
   "outputs": [
    {
     "output_type": "execute_result",
     "data": {
      "text/plain": "  Model_Name  Accuracy  Precision  Recall  Latency  \\\n0  lgr        0.877     0.875      0.84    5.0       \n0  svm        0.930     0.889      0.96    3.0       \n0  mlp        0.596     0.583      0.28    3.0       \n0  rf         0.877     0.821      0.92    11.0      \n0  ada        0.895     0.913      0.84    16.0      \n0  gb         0.895     0.913      0.84    1.0       \n0  xgb        0.912     0.955      0.84    2.4       \n\n                                                                                                                   Best_Parameters  \\\n0  [('C', 1000), ('random_state', 13)]                                                                                               \n0  [('C', 0.1), ('kernel', 'linear')]                                                                                                \n0  [('activation', 'relu'), ('hidden_layer_sizes', (10,)), ('learning_rate', 'constant'), ('random_state', 13), ('solver', 'sgd')]   \n0  [('max_depth', 2), ('n_estimators', 50), ('random_state', 13)]                                                                    \n0  [('learning_rate', 1), ('n_estimators', 50), ('random_state', 13)]                                                                \n0  [('learning_rate', 1), ('max_depth', 2), ('n_estimators', 50), ('random_state', 13)]                                              \n0  [('learning_rate', 1), ('max_depth', 2), ('n_estimators', 50), ('random_state', 13)]                                              \n\n     Dataset  \n0  Dataset_0  \n0  Dataset_0  \n0  Dataset_0  \n0  Dataset_0  \n0  Dataset_0  \n0  Dataset_0  \n0  Dataset_0  ",
      "text/html": "<div>\n<style scoped>\n    .dataframe tbody tr th:only-of-type {\n        vertical-align: middle;\n    }\n\n    .dataframe tbody tr th {\n        vertical-align: top;\n    }\n\n    .dataframe thead th {\n        text-align: right;\n    }\n</style>\n<table border=\"1\" class=\"dataframe\">\n  <thead>\n    <tr style=\"text-align: right;\">\n      <th></th>\n      <th>Model_Name</th>\n      <th>Accuracy</th>\n      <th>Precision</th>\n      <th>Recall</th>\n      <th>Latency</th>\n      <th>Best_Parameters</th>\n      <th>Dataset</th>\n    </tr>\n  </thead>\n  <tbody>\n    <tr>\n      <th>0</th>\n      <td>lgr</td>\n      <td>0.877</td>\n      <td>0.875</td>\n      <td>0.84</td>\n      <td>5.0</td>\n      <td>[('C', 1000), ('random_state', 13)]</td>\n      <td>Dataset_0</td>\n    </tr>\n    <tr>\n      <th>0</th>\n      <td>svm</td>\n      <td>0.930</td>\n      <td>0.889</td>\n      <td>0.96</td>\n      <td>3.0</td>\n      <td>[('C', 0.1), ('kernel', 'linear')]</td>\n      <td>Dataset_0</td>\n    </tr>\n    <tr>\n      <th>0</th>\n      <td>mlp</td>\n      <td>0.596</td>\n      <td>0.583</td>\n      <td>0.28</td>\n      <td>3.0</td>\n      <td>[('activation', 'relu'), ('hidden_layer_sizes', (10,)), ('learning_rate', 'constant'), ('random_state', 13), ('solver', 'sgd')]</td>\n      <td>Dataset_0</td>\n    </tr>\n    <tr>\n      <th>0</th>\n      <td>rf</td>\n      <td>0.877</td>\n      <td>0.821</td>\n      <td>0.92</td>\n      <td>11.0</td>\n      <td>[('max_depth', 2), ('n_estimators', 50), ('random_state', 13)]</td>\n      <td>Dataset_0</td>\n    </tr>\n    <tr>\n      <th>0</th>\n      <td>ada</td>\n      <td>0.895</td>\n      <td>0.913</td>\n      <td>0.84</td>\n      <td>16.0</td>\n      <td>[('learning_rate', 1), ('n_estimators', 50), ('random_state', 13)]</td>\n      <td>Dataset_0</td>\n    </tr>\n    <tr>\n      <th>0</th>\n      <td>gb</td>\n      <td>0.895</td>\n      <td>0.913</td>\n      <td>0.84</td>\n      <td>1.0</td>\n      <td>[('learning_rate', 1), ('max_depth', 2), ('n_estimators', 50), ('random_state', 13)]</td>\n      <td>Dataset_0</td>\n    </tr>\n    <tr>\n      <th>0</th>\n      <td>xgb</td>\n      <td>0.912</td>\n      <td>0.955</td>\n      <td>0.84</td>\n      <td>2.4</td>\n      <td>[('learning_rate', 1), ('max_depth', 2), ('n_estimators', 50), ('random_state', 13)]</td>\n      <td>Dataset_0</td>\n    </tr>\n  </tbody>\n</table>\n</div>"
     },
     "metadata": {},
     "execution_count": 8
    }
   ],
   "source": [
    "\n",
    "DICT_MODELS_EVALUATION['Dataset_0']"
   ]
  },
  {
   "cell_type": "code",
   "execution_count": null,
   "metadata": {},
   "outputs": [],
   "source": []
  },
  {
   "cell_type": "code",
   "execution_count": 9,
   "metadata": {},
   "outputs": [
    {
     "output_type": "execute_result",
     "data": {
      "text/plain": "      Dataset Model_Name  \\\n1   Dataset_0  svm         \n6   Dataset_0  xgb         \n55  Dataset_7  xgb         \n8   Dataset_1  svm         \n22  Dataset_3  svm         \n9   Dataset_1  mlp         \n5   Dataset_0  gb          \n49  Dataset_7  lgr         \n50  Dataset_7  svm         \n54  Dataset_7  gb          \n4   Dataset_0  ada         \n53  Dataset_7  ada         \n10  Dataset_1  rf          \n37  Dataset_5  mlp         \n36  Dataset_5  svm         \n0   Dataset_0  lgr         \n3   Dataset_0  rf          \n38  Dataset_5  rf          \n17  Dataset_2  rf          \n24  Dataset_3  rf          \n31  Dataset_4  rf          \n45  Dataset_6  rf          \n52  Dataset_7  rf          \n23  Dataset_3  mlp         \n51  Dataset_7  mlp         \n25  Dataset_3  ada         \n11  Dataset_1  ada         \n32  Dataset_4  ada         \n39  Dataset_5  ada         \n46  Dataset_6  ada         \n18  Dataset_2  ada         \n41  Dataset_5  xgb         \n48  Dataset_6  xgb         \n20  Dataset_2  xgb         \n34  Dataset_4  xgb         \n35  Dataset_5  lgr         \n14  Dataset_2  lgr         \n42  Dataset_6  lgr         \n28  Dataset_4  lgr         \n33  Dataset_4  gb          \n40  Dataset_5  gb          \n19  Dataset_2  gb          \n13  Dataset_1  xgb         \n15  Dataset_2  svm         \n27  Dataset_3  xgb         \n29  Dataset_4  svm         \n43  Dataset_6  svm         \n47  Dataset_6  gb          \n7   Dataset_1  lgr         \n21  Dataset_3  lgr         \n12  Dataset_1  gb          \n26  Dataset_3  gb          \n2   Dataset_0  mlp         \n30  Dataset_4  mlp         \n44  Dataset_6  mlp         \n16  Dataset_2  mlp         \n\n                                                                                                                    Best_Parameters  \\\n1   [('C', 0.1), ('kernel', 'linear')]                                                                                                \n6   [('learning_rate', 1), ('max_depth', 2), ('n_estimators', 50), ('random_state', 13)]                                              \n55  [('learning_rate', 1), ('max_depth', 2), ('n_estimators', 50), ('random_state', 13)]                                              \n8   [('C', 0.1), ('kernel', 'linear')]                                                                                                \n22  [('C', 0.1), ('kernel', 'linear')]                                                                                                \n9   [('activation', 'relu'), ('hidden_layer_sizes', (10,)), ('learning_rate', 'constant'), ('random_state', 13), ('solver', 'sgd')]   \n5   [('learning_rate', 1), ('max_depth', 2), ('n_estimators', 50), ('random_state', 13)]                                              \n49  [('C', 0.1), ('random_state', 13)]                                                                                                \n50  [('C', 0.1), ('kernel', 'linear')]                                                                                                \n54  [('learning_rate', 1), ('max_depth', 2), ('n_estimators', 50), ('random_state', 13)]                                              \n4   [('learning_rate', 1), ('n_estimators', 50), ('random_state', 13)]                                                                \n53  [('learning_rate', 1), ('n_estimators', 50), ('random_state', 13)]                                                                \n10  [('max_depth', 2), ('n_estimators', 50), ('random_state', 13)]                                                                    \n37  [('activation', 'relu'), ('hidden_layer_sizes', (10,)), ('learning_rate', 'constant'), ('random_state', 13), ('solver', 'sgd')]   \n36  [('C', 0.1), ('kernel', 'linear')]                                                                                                \n0   [('C', 1000), ('random_state', 13)]                                                                                               \n3   [('max_depth', 2), ('n_estimators', 50), ('random_state', 13)]                                                                    \n38  [('max_depth', 2), ('n_estimators', 50), ('random_state', 13)]                                                                    \n17  [('max_depth', 2), ('n_estimators', 50), ('random_state', 13)]                                                                    \n24  [('max_depth', 2), ('n_estimators', 50), ('random_state', 13)]                                                                    \n31  [('max_depth', 2), ('n_estimators', 50), ('random_state', 13)]                                                                    \n45  [('max_depth', 2), ('n_estimators', 50), ('random_state', 13)]                                                                    \n52  [('max_depth', 2), ('n_estimators', 50), ('random_state', 13)]                                                                    \n23  [('activation', 'relu'), ('hidden_layer_sizes', (10,)), ('learning_rate', 'constant'), ('random_state', 13), ('solver', 'sgd')]   \n51  [('activation', 'relu'), ('hidden_layer_sizes', (10,)), ('learning_rate', 'constant'), ('random_state', 13), ('solver', 'sgd')]   \n25  [('learning_rate', 1), ('n_estimators', 50), ('random_state', 13)]                                                                \n11  [('learning_rate', 1), ('n_estimators', 50), ('random_state', 13)]                                                                \n32  [('learning_rate', 1), ('n_estimators', 50), ('random_state', 13)]                                                                \n39  [('learning_rate', 1), ('n_estimators', 50), ('random_state', 13)]                                                                \n46  [('learning_rate', 1), ('n_estimators', 50), ('random_state', 13)]                                                                \n18  [('learning_rate', 1), ('n_estimators', 50), ('random_state', 13)]                                                                \n41  [('learning_rate', 1), ('max_depth', 2), ('n_estimators', 50), ('random_state', 13)]                                              \n48  [('learning_rate', 1), ('max_depth', 2), ('n_estimators', 50), ('random_state', 13)]                                              \n20  [('learning_rate', 1), ('max_depth', 2), ('n_estimators', 50), ('random_state', 13)]                                              \n34  [('learning_rate', 1), ('max_depth', 2), ('n_estimators', 50), ('random_state', 13)]                                              \n35  [('C', 0.1), ('random_state', 13)]                                                                                                \n14  [('C', 10), ('random_state', 13)]                                                                                                 \n42  [('C', 10), ('random_state', 13)]                                                                                                 \n28  [('C', 10), ('random_state', 13)]                                                                                                 \n33  [('learning_rate', 1), ('max_depth', 2), ('n_estimators', 50), ('random_state', 13)]                                              \n40  [('learning_rate', 1), ('max_depth', 2), ('n_estimators', 50), ('random_state', 13)]                                              \n19  [('learning_rate', 1), ('max_depth', 2), ('n_estimators', 50), ('random_state', 13)]                                              \n13  [('learning_rate', 1), ('max_depth', 2), ('n_estimators', 50), ('random_state', 13)]                                              \n15  [('C', 0.1), ('kernel', 'linear')]                                                                                                \n27  [('learning_rate', 1), ('max_depth', 2), ('n_estimators', 50), ('random_state', 13)]                                              \n29  [('C', 0.1), ('kernel', 'linear')]                                                                                                \n43  [('C', 0.1), ('kernel', 'linear')]                                                                                                \n47  [('learning_rate', 1), ('max_depth', 2), ('n_estimators', 50), ('random_state', 13)]                                              \n7   [('C', 1000), ('random_state', 13)]                                                                                               \n21  [('C', 1000), ('random_state', 13)]                                                                                               \n12  [('learning_rate', 1), ('max_depth', 2), ('n_estimators', 50), ('random_state', 13)]                                              \n26  [('learning_rate', 1), ('max_depth', 2), ('n_estimators', 50), ('random_state', 13)]                                              \n2   [('activation', 'relu'), ('hidden_layer_sizes', (10,)), ('learning_rate', 'constant'), ('random_state', 13), ('solver', 'sgd')]   \n30  [('activation', 'relu'), ('hidden_layer_sizes', (10,)), ('learning_rate', 'constant'), ('random_state', 13), ('solver', 'sgd')]   \n44  [('activation', 'relu'), ('hidden_layer_sizes', (10,)), ('learning_rate', 'constant'), ('random_state', 13), ('solver', 'sgd')]   \n16  [('activation', 'relu'), ('hidden_layer_sizes', (10,)), ('learning_rate', 'constant'), ('random_state', 13), ('solver', 'sgd')]   \n\n    Accuracy  Precision  Recall  Latency  \n1   0.930     0.889      0.96    3.0      \n6   0.912     0.955      0.84    2.4      \n55  0.912     0.955      0.84    3.0      \n8   0.912     0.917      0.88    2.0      \n22  0.912     0.917      0.88    4.0      \n9   0.895     0.952      0.80    3.0      \n5   0.895     0.913      0.84    1.0      \n49  0.895     0.913      0.84    3.0      \n50  0.895     0.913      0.84    3.0      \n54  0.895     0.913      0.84    3.0      \n4   0.895     0.913      0.84    16.0     \n53  0.895     0.913      0.84    17.0     \n10  0.895     0.852      0.92    12.0     \n37  0.877     0.950      0.76    3.0      \n36  0.877     0.875      0.84    3.0      \n0   0.877     0.875      0.84    5.0      \n3   0.877     0.821      0.92    11.0     \n38  0.877     0.821      0.92    11.0     \n17  0.877     0.821      0.92    12.0     \n24  0.877     0.821      0.92    12.0     \n31  0.877     0.821      0.92    12.0     \n45  0.877     0.821      0.92    12.0     \n52  0.877     0.821      0.92    13.0     \n23  0.860     0.905      0.76    3.0      \n51  0.860     0.905      0.76    4.0      \n25  0.860     0.905      0.76    16.0     \n11  0.860     0.905      0.76    17.0     \n32  0.860     0.840      0.84    16.0     \n39  0.860     0.840      0.84    17.0     \n46  0.860     0.840      0.84    17.9     \n18  0.860     0.840      0.84    18.0     \n41  0.860     0.815      0.88    2.0      \n48  0.860     0.815      0.88    2.0      \n20  0.860     0.815      0.88    3.0      \n34  0.860     0.815      0.88    3.0      \n35  0.842     0.864      0.76    3.0      \n14  0.842     0.833      0.80    2.0      \n42  0.842     0.833      0.80    2.0      \n28  0.842     0.833      0.80    2.8      \n33  0.842     0.833      0.80    3.0      \n40  0.842     0.833      0.80    3.0      \n19  0.842     0.833      0.80    4.0      \n13  0.842     0.808      0.84    2.0      \n15  0.842     0.808      0.84    3.0      \n27  0.842     0.808      0.84    3.0      \n29  0.842     0.808      0.84    3.0      \n43  0.842     0.808      0.84    3.0      \n47  0.825     0.800      0.80    4.0      \n7   0.825     0.778      0.84    3.0      \n21  0.825     0.778      0.84    3.0      \n12  0.807     0.769      0.80    2.0      \n26  0.807     0.769      0.80    3.0      \n2   0.596     0.583      0.28    3.0      \n30  0.561     0.000      0.00    3.0      \n44  0.561     0.000      0.00    3.0      \n16  0.561     0.000      0.00    4.0      ",
      "text/html": "<div>\n<style scoped>\n    .dataframe tbody tr th:only-of-type {\n        vertical-align: middle;\n    }\n\n    .dataframe tbody tr th {\n        vertical-align: top;\n    }\n\n    .dataframe thead th {\n        text-align: right;\n    }\n</style>\n<table border=\"1\" class=\"dataframe\">\n  <thead>\n    <tr style=\"text-align: right;\">\n      <th></th>\n      <th>Dataset</th>\n      <th>Model_Name</th>\n      <th>Best_Parameters</th>\n      <th>Accuracy</th>\n      <th>Precision</th>\n      <th>Recall</th>\n      <th>Latency</th>\n    </tr>\n  </thead>\n  <tbody>\n    <tr>\n      <th>1</th>\n      <td>Dataset_0</td>\n      <td>svm</td>\n      <td>[('C', 0.1), ('kernel', 'linear')]</td>\n      <td>0.930</td>\n      <td>0.889</td>\n      <td>0.96</td>\n      <td>3.0</td>\n    </tr>\n    <tr>\n      <th>6</th>\n      <td>Dataset_0</td>\n      <td>xgb</td>\n      <td>[('learning_rate', 1), ('max_depth', 2), ('n_estimators', 50), ('random_state', 13)]</td>\n      <td>0.912</td>\n      <td>0.955</td>\n      <td>0.84</td>\n      <td>2.4</td>\n    </tr>\n    <tr>\n      <th>55</th>\n      <td>Dataset_7</td>\n      <td>xgb</td>\n      <td>[('learning_rate', 1), ('max_depth', 2), ('n_estimators', 50), ('random_state', 13)]</td>\n      <td>0.912</td>\n      <td>0.955</td>\n      <td>0.84</td>\n      <td>3.0</td>\n    </tr>\n    <tr>\n      <th>8</th>\n      <td>Dataset_1</td>\n      <td>svm</td>\n      <td>[('C', 0.1), ('kernel', 'linear')]</td>\n      <td>0.912</td>\n      <td>0.917</td>\n      <td>0.88</td>\n      <td>2.0</td>\n    </tr>\n    <tr>\n      <th>22</th>\n      <td>Dataset_3</td>\n      <td>svm</td>\n      <td>[('C', 0.1), ('kernel', 'linear')]</td>\n      <td>0.912</td>\n      <td>0.917</td>\n      <td>0.88</td>\n      <td>4.0</td>\n    </tr>\n    <tr>\n      <th>9</th>\n      <td>Dataset_1</td>\n      <td>mlp</td>\n      <td>[('activation', 'relu'), ('hidden_layer_sizes', (10,)), ('learning_rate', 'constant'), ('random_state', 13), ('solver', 'sgd')]</td>\n      <td>0.895</td>\n      <td>0.952</td>\n      <td>0.80</td>\n      <td>3.0</td>\n    </tr>\n    <tr>\n      <th>5</th>\n      <td>Dataset_0</td>\n      <td>gb</td>\n      <td>[('learning_rate', 1), ('max_depth', 2), ('n_estimators', 50), ('random_state', 13)]</td>\n      <td>0.895</td>\n      <td>0.913</td>\n      <td>0.84</td>\n      <td>1.0</td>\n    </tr>\n    <tr>\n      <th>49</th>\n      <td>Dataset_7</td>\n      <td>lgr</td>\n      <td>[('C', 0.1), ('random_state', 13)]</td>\n      <td>0.895</td>\n      <td>0.913</td>\n      <td>0.84</td>\n      <td>3.0</td>\n    </tr>\n    <tr>\n      <th>50</th>\n      <td>Dataset_7</td>\n      <td>svm</td>\n      <td>[('C', 0.1), ('kernel', 'linear')]</td>\n      <td>0.895</td>\n      <td>0.913</td>\n      <td>0.84</td>\n      <td>3.0</td>\n    </tr>\n    <tr>\n      <th>54</th>\n      <td>Dataset_7</td>\n      <td>gb</td>\n      <td>[('learning_rate', 1), ('max_depth', 2), ('n_estimators', 50), ('random_state', 13)]</td>\n      <td>0.895</td>\n      <td>0.913</td>\n      <td>0.84</td>\n      <td>3.0</td>\n    </tr>\n    <tr>\n      <th>4</th>\n      <td>Dataset_0</td>\n      <td>ada</td>\n      <td>[('learning_rate', 1), ('n_estimators', 50), ('random_state', 13)]</td>\n      <td>0.895</td>\n      <td>0.913</td>\n      <td>0.84</td>\n      <td>16.0</td>\n    </tr>\n    <tr>\n      <th>53</th>\n      <td>Dataset_7</td>\n      <td>ada</td>\n      <td>[('learning_rate', 1), ('n_estimators', 50), ('random_state', 13)]</td>\n      <td>0.895</td>\n      <td>0.913</td>\n      <td>0.84</td>\n      <td>17.0</td>\n    </tr>\n    <tr>\n      <th>10</th>\n      <td>Dataset_1</td>\n      <td>rf</td>\n      <td>[('max_depth', 2), ('n_estimators', 50), ('random_state', 13)]</td>\n      <td>0.895</td>\n      <td>0.852</td>\n      <td>0.92</td>\n      <td>12.0</td>\n    </tr>\n    <tr>\n      <th>37</th>\n      <td>Dataset_5</td>\n      <td>mlp</td>\n      <td>[('activation', 'relu'), ('hidden_layer_sizes', (10,)), ('learning_rate', 'constant'), ('random_state', 13), ('solver', 'sgd')]</td>\n      <td>0.877</td>\n      <td>0.950</td>\n      <td>0.76</td>\n      <td>3.0</td>\n    </tr>\n    <tr>\n      <th>36</th>\n      <td>Dataset_5</td>\n      <td>svm</td>\n      <td>[('C', 0.1), ('kernel', 'linear')]</td>\n      <td>0.877</td>\n      <td>0.875</td>\n      <td>0.84</td>\n      <td>3.0</td>\n    </tr>\n    <tr>\n      <th>0</th>\n      <td>Dataset_0</td>\n      <td>lgr</td>\n      <td>[('C', 1000), ('random_state', 13)]</td>\n      <td>0.877</td>\n      <td>0.875</td>\n      <td>0.84</td>\n      <td>5.0</td>\n    </tr>\n    <tr>\n      <th>3</th>\n      <td>Dataset_0</td>\n      <td>rf</td>\n      <td>[('max_depth', 2), ('n_estimators', 50), ('random_state', 13)]</td>\n      <td>0.877</td>\n      <td>0.821</td>\n      <td>0.92</td>\n      <td>11.0</td>\n    </tr>\n    <tr>\n      <th>38</th>\n      <td>Dataset_5</td>\n      <td>rf</td>\n      <td>[('max_depth', 2), ('n_estimators', 50), ('random_state', 13)]</td>\n      <td>0.877</td>\n      <td>0.821</td>\n      <td>0.92</td>\n      <td>11.0</td>\n    </tr>\n    <tr>\n      <th>17</th>\n      <td>Dataset_2</td>\n      <td>rf</td>\n      <td>[('max_depth', 2), ('n_estimators', 50), ('random_state', 13)]</td>\n      <td>0.877</td>\n      <td>0.821</td>\n      <td>0.92</td>\n      <td>12.0</td>\n    </tr>\n    <tr>\n      <th>24</th>\n      <td>Dataset_3</td>\n      <td>rf</td>\n      <td>[('max_depth', 2), ('n_estimators', 50), ('random_state', 13)]</td>\n      <td>0.877</td>\n      <td>0.821</td>\n      <td>0.92</td>\n      <td>12.0</td>\n    </tr>\n    <tr>\n      <th>31</th>\n      <td>Dataset_4</td>\n      <td>rf</td>\n      <td>[('max_depth', 2), ('n_estimators', 50), ('random_state', 13)]</td>\n      <td>0.877</td>\n      <td>0.821</td>\n      <td>0.92</td>\n      <td>12.0</td>\n    </tr>\n    <tr>\n      <th>45</th>\n      <td>Dataset_6</td>\n      <td>rf</td>\n      <td>[('max_depth', 2), ('n_estimators', 50), ('random_state', 13)]</td>\n      <td>0.877</td>\n      <td>0.821</td>\n      <td>0.92</td>\n      <td>12.0</td>\n    </tr>\n    <tr>\n      <th>52</th>\n      <td>Dataset_7</td>\n      <td>rf</td>\n      <td>[('max_depth', 2), ('n_estimators', 50), ('random_state', 13)]</td>\n      <td>0.877</td>\n      <td>0.821</td>\n      <td>0.92</td>\n      <td>13.0</td>\n    </tr>\n    <tr>\n      <th>23</th>\n      <td>Dataset_3</td>\n      <td>mlp</td>\n      <td>[('activation', 'relu'), ('hidden_layer_sizes', (10,)), ('learning_rate', 'constant'), ('random_state', 13), ('solver', 'sgd')]</td>\n      <td>0.860</td>\n      <td>0.905</td>\n      <td>0.76</td>\n      <td>3.0</td>\n    </tr>\n    <tr>\n      <th>51</th>\n      <td>Dataset_7</td>\n      <td>mlp</td>\n      <td>[('activation', 'relu'), ('hidden_layer_sizes', (10,)), ('learning_rate', 'constant'), ('random_state', 13), ('solver', 'sgd')]</td>\n      <td>0.860</td>\n      <td>0.905</td>\n      <td>0.76</td>\n      <td>4.0</td>\n    </tr>\n    <tr>\n      <th>25</th>\n      <td>Dataset_3</td>\n      <td>ada</td>\n      <td>[('learning_rate', 1), ('n_estimators', 50), ('random_state', 13)]</td>\n      <td>0.860</td>\n      <td>0.905</td>\n      <td>0.76</td>\n      <td>16.0</td>\n    </tr>\n    <tr>\n      <th>11</th>\n      <td>Dataset_1</td>\n      <td>ada</td>\n      <td>[('learning_rate', 1), ('n_estimators', 50), ('random_state', 13)]</td>\n      <td>0.860</td>\n      <td>0.905</td>\n      <td>0.76</td>\n      <td>17.0</td>\n    </tr>\n    <tr>\n      <th>32</th>\n      <td>Dataset_4</td>\n      <td>ada</td>\n      <td>[('learning_rate', 1), ('n_estimators', 50), ('random_state', 13)]</td>\n      <td>0.860</td>\n      <td>0.840</td>\n      <td>0.84</td>\n      <td>16.0</td>\n    </tr>\n    <tr>\n      <th>39</th>\n      <td>Dataset_5</td>\n      <td>ada</td>\n      <td>[('learning_rate', 1), ('n_estimators', 50), ('random_state', 13)]</td>\n      <td>0.860</td>\n      <td>0.840</td>\n      <td>0.84</td>\n      <td>17.0</td>\n    </tr>\n    <tr>\n      <th>46</th>\n      <td>Dataset_6</td>\n      <td>ada</td>\n      <td>[('learning_rate', 1), ('n_estimators', 50), ('random_state', 13)]</td>\n      <td>0.860</td>\n      <td>0.840</td>\n      <td>0.84</td>\n      <td>17.9</td>\n    </tr>\n    <tr>\n      <th>18</th>\n      <td>Dataset_2</td>\n      <td>ada</td>\n      <td>[('learning_rate', 1), ('n_estimators', 50), ('random_state', 13)]</td>\n      <td>0.860</td>\n      <td>0.840</td>\n      <td>0.84</td>\n      <td>18.0</td>\n    </tr>\n    <tr>\n      <th>41</th>\n      <td>Dataset_5</td>\n      <td>xgb</td>\n      <td>[('learning_rate', 1), ('max_depth', 2), ('n_estimators', 50), ('random_state', 13)]</td>\n      <td>0.860</td>\n      <td>0.815</td>\n      <td>0.88</td>\n      <td>2.0</td>\n    </tr>\n    <tr>\n      <th>48</th>\n      <td>Dataset_6</td>\n      <td>xgb</td>\n      <td>[('learning_rate', 1), ('max_depth', 2), ('n_estimators', 50), ('random_state', 13)]</td>\n      <td>0.860</td>\n      <td>0.815</td>\n      <td>0.88</td>\n      <td>2.0</td>\n    </tr>\n    <tr>\n      <th>20</th>\n      <td>Dataset_2</td>\n      <td>xgb</td>\n      <td>[('learning_rate', 1), ('max_depth', 2), ('n_estimators', 50), ('random_state', 13)]</td>\n      <td>0.860</td>\n      <td>0.815</td>\n      <td>0.88</td>\n      <td>3.0</td>\n    </tr>\n    <tr>\n      <th>34</th>\n      <td>Dataset_4</td>\n      <td>xgb</td>\n      <td>[('learning_rate', 1), ('max_depth', 2), ('n_estimators', 50), ('random_state', 13)]</td>\n      <td>0.860</td>\n      <td>0.815</td>\n      <td>0.88</td>\n      <td>3.0</td>\n    </tr>\n    <tr>\n      <th>35</th>\n      <td>Dataset_5</td>\n      <td>lgr</td>\n      <td>[('C', 0.1), ('random_state', 13)]</td>\n      <td>0.842</td>\n      <td>0.864</td>\n      <td>0.76</td>\n      <td>3.0</td>\n    </tr>\n    <tr>\n      <th>14</th>\n      <td>Dataset_2</td>\n      <td>lgr</td>\n      <td>[('C', 10), ('random_state', 13)]</td>\n      <td>0.842</td>\n      <td>0.833</td>\n      <td>0.80</td>\n      <td>2.0</td>\n    </tr>\n    <tr>\n      <th>42</th>\n      <td>Dataset_6</td>\n      <td>lgr</td>\n      <td>[('C', 10), ('random_state', 13)]</td>\n      <td>0.842</td>\n      <td>0.833</td>\n      <td>0.80</td>\n      <td>2.0</td>\n    </tr>\n    <tr>\n      <th>28</th>\n      <td>Dataset_4</td>\n      <td>lgr</td>\n      <td>[('C', 10), ('random_state', 13)]</td>\n      <td>0.842</td>\n      <td>0.833</td>\n      <td>0.80</td>\n      <td>2.8</td>\n    </tr>\n    <tr>\n      <th>33</th>\n      <td>Dataset_4</td>\n      <td>gb</td>\n      <td>[('learning_rate', 1), ('max_depth', 2), ('n_estimators', 50), ('random_state', 13)]</td>\n      <td>0.842</td>\n      <td>0.833</td>\n      <td>0.80</td>\n      <td>3.0</td>\n    </tr>\n    <tr>\n      <th>40</th>\n      <td>Dataset_5</td>\n      <td>gb</td>\n      <td>[('learning_rate', 1), ('max_depth', 2), ('n_estimators', 50), ('random_state', 13)]</td>\n      <td>0.842</td>\n      <td>0.833</td>\n      <td>0.80</td>\n      <td>3.0</td>\n    </tr>\n    <tr>\n      <th>19</th>\n      <td>Dataset_2</td>\n      <td>gb</td>\n      <td>[('learning_rate', 1), ('max_depth', 2), ('n_estimators', 50), ('random_state', 13)]</td>\n      <td>0.842</td>\n      <td>0.833</td>\n      <td>0.80</td>\n      <td>4.0</td>\n    </tr>\n    <tr>\n      <th>13</th>\n      <td>Dataset_1</td>\n      <td>xgb</td>\n      <td>[('learning_rate', 1), ('max_depth', 2), ('n_estimators', 50), ('random_state', 13)]</td>\n      <td>0.842</td>\n      <td>0.808</td>\n      <td>0.84</td>\n      <td>2.0</td>\n    </tr>\n    <tr>\n      <th>15</th>\n      <td>Dataset_2</td>\n      <td>svm</td>\n      <td>[('C', 0.1), ('kernel', 'linear')]</td>\n      <td>0.842</td>\n      <td>0.808</td>\n      <td>0.84</td>\n      <td>3.0</td>\n    </tr>\n    <tr>\n      <th>27</th>\n      <td>Dataset_3</td>\n      <td>xgb</td>\n      <td>[('learning_rate', 1), ('max_depth', 2), ('n_estimators', 50), ('random_state', 13)]</td>\n      <td>0.842</td>\n      <td>0.808</td>\n      <td>0.84</td>\n      <td>3.0</td>\n    </tr>\n    <tr>\n      <th>29</th>\n      <td>Dataset_4</td>\n      <td>svm</td>\n      <td>[('C', 0.1), ('kernel', 'linear')]</td>\n      <td>0.842</td>\n      <td>0.808</td>\n      <td>0.84</td>\n      <td>3.0</td>\n    </tr>\n    <tr>\n      <th>43</th>\n      <td>Dataset_6</td>\n      <td>svm</td>\n      <td>[('C', 0.1), ('kernel', 'linear')]</td>\n      <td>0.842</td>\n      <td>0.808</td>\n      <td>0.84</td>\n      <td>3.0</td>\n    </tr>\n    <tr>\n      <th>47</th>\n      <td>Dataset_6</td>\n      <td>gb</td>\n      <td>[('learning_rate', 1), ('max_depth', 2), ('n_estimators', 50), ('random_state', 13)]</td>\n      <td>0.825</td>\n      <td>0.800</td>\n      <td>0.80</td>\n      <td>4.0</td>\n    </tr>\n    <tr>\n      <th>7</th>\n      <td>Dataset_1</td>\n      <td>lgr</td>\n      <td>[('C', 1000), ('random_state', 13)]</td>\n      <td>0.825</td>\n      <td>0.778</td>\n      <td>0.84</td>\n      <td>3.0</td>\n    </tr>\n    <tr>\n      <th>21</th>\n      <td>Dataset_3</td>\n      <td>lgr</td>\n      <td>[('C', 1000), ('random_state', 13)]</td>\n      <td>0.825</td>\n      <td>0.778</td>\n      <td>0.84</td>\n      <td>3.0</td>\n    </tr>\n    <tr>\n      <th>12</th>\n      <td>Dataset_1</td>\n      <td>gb</td>\n      <td>[('learning_rate', 1), ('max_depth', 2), ('n_estimators', 50), ('random_state', 13)]</td>\n      <td>0.807</td>\n      <td>0.769</td>\n      <td>0.80</td>\n      <td>2.0</td>\n    </tr>\n    <tr>\n      <th>26</th>\n      <td>Dataset_3</td>\n      <td>gb</td>\n      <td>[('learning_rate', 1), ('max_depth', 2), ('n_estimators', 50), ('random_state', 13)]</td>\n      <td>0.807</td>\n      <td>0.769</td>\n      <td>0.80</td>\n      <td>3.0</td>\n    </tr>\n    <tr>\n      <th>2</th>\n      <td>Dataset_0</td>\n      <td>mlp</td>\n      <td>[('activation', 'relu'), ('hidden_layer_sizes', (10,)), ('learning_rate', 'constant'), ('random_state', 13), ('solver', 'sgd')]</td>\n      <td>0.596</td>\n      <td>0.583</td>\n      <td>0.28</td>\n      <td>3.0</td>\n    </tr>\n    <tr>\n      <th>30</th>\n      <td>Dataset_4</td>\n      <td>mlp</td>\n      <td>[('activation', 'relu'), ('hidden_layer_sizes', (10,)), ('learning_rate', 'constant'), ('random_state', 13), ('solver', 'sgd')]</td>\n      <td>0.561</td>\n      <td>0.000</td>\n      <td>0.00</td>\n      <td>3.0</td>\n    </tr>\n    <tr>\n      <th>44</th>\n      <td>Dataset_6</td>\n      <td>mlp</td>\n      <td>[('activation', 'relu'), ('hidden_layer_sizes', (10,)), ('learning_rate', 'constant'), ('random_state', 13), ('solver', 'sgd')]</td>\n      <td>0.561</td>\n      <td>0.000</td>\n      <td>0.00</td>\n      <td>3.0</td>\n    </tr>\n    <tr>\n      <th>16</th>\n      <td>Dataset_2</td>\n      <td>mlp</td>\n      <td>[('activation', 'relu'), ('hidden_layer_sizes', (10,)), ('learning_rate', 'constant'), ('random_state', 13), ('solver', 'sgd')]</td>\n      <td>0.561</td>\n      <td>0.000</td>\n      <td>0.00</td>\n      <td>4.0</td>\n    </tr>\n  </tbody>\n</table>\n</div>"
     },
     "metadata": {},
     "execution_count": 9
    }
   ],
   "source": [
    "\n",
    "dyna_report"
   ]
  },
  {
   "cell_type": "code",
   "execution_count": 15,
   "metadata": {},
   "outputs": [
    {
     "output_type": "execute_result",
     "data": {
      "text/plain": "     concavity_mean  concave points_mean  perimeter_mean  radius_mean  \\\n264  0.09061         0.065270             111.60          17.19         \n231  0.01633         0.006588             71.76           11.32         \n197  0.11030         0.057780             117.40          18.08         \n172  0.20320         0.109700             102.50          15.46         \n54   0.05253         0.033340             97.26           15.10         \n33   0.16570         0.075930             127.90          19.27         \n68   0.25080         0.043750             60.73           9.72          \n237  0.09042         0.060220             132.50          20.48         \n51   0.01857         0.017230             87.21           13.64         \n196  0.13850         0.065260             90.63           13.77         \n\n     texture_mean  \n264  22.07         \n231  26.60         \n197  21.84         \n172  13.04         \n54   22.02         \n33   26.47         \n68   17.33         \n237  21.46         \n51   16.34         \n196  22.29         ",
      "text/html": "<div>\n<style scoped>\n    .dataframe tbody tr th:only-of-type {\n        vertical-align: middle;\n    }\n\n    .dataframe tbody tr th {\n        vertical-align: top;\n    }\n\n    .dataframe thead th {\n        text-align: right;\n    }\n</style>\n<table border=\"1\" class=\"dataframe\">\n  <thead>\n    <tr style=\"text-align: right;\">\n      <th></th>\n      <th>concavity_mean</th>\n      <th>concave points_mean</th>\n      <th>perimeter_mean</th>\n      <th>radius_mean</th>\n      <th>texture_mean</th>\n    </tr>\n  </thead>\n  <tbody>\n    <tr>\n      <th>264</th>\n      <td>0.09061</td>\n      <td>0.065270</td>\n      <td>111.60</td>\n      <td>17.19</td>\n      <td>22.07</td>\n    </tr>\n    <tr>\n      <th>231</th>\n      <td>0.01633</td>\n      <td>0.006588</td>\n      <td>71.76</td>\n      <td>11.32</td>\n      <td>26.60</td>\n    </tr>\n    <tr>\n      <th>197</th>\n      <td>0.11030</td>\n      <td>0.057780</td>\n      <td>117.40</td>\n      <td>18.08</td>\n      <td>21.84</td>\n    </tr>\n    <tr>\n      <th>172</th>\n      <td>0.20320</td>\n      <td>0.109700</td>\n      <td>102.50</td>\n      <td>15.46</td>\n      <td>13.04</td>\n    </tr>\n    <tr>\n      <th>54</th>\n      <td>0.05253</td>\n      <td>0.033340</td>\n      <td>97.26</td>\n      <td>15.10</td>\n      <td>22.02</td>\n    </tr>\n    <tr>\n      <th>33</th>\n      <td>0.16570</td>\n      <td>0.075930</td>\n      <td>127.90</td>\n      <td>19.27</td>\n      <td>26.47</td>\n    </tr>\n    <tr>\n      <th>68</th>\n      <td>0.25080</td>\n      <td>0.043750</td>\n      <td>60.73</td>\n      <td>9.72</td>\n      <td>17.33</td>\n    </tr>\n    <tr>\n      <th>237</th>\n      <td>0.09042</td>\n      <td>0.060220</td>\n      <td>132.50</td>\n      <td>20.48</td>\n      <td>21.46</td>\n    </tr>\n    <tr>\n      <th>51</th>\n      <td>0.01857</td>\n      <td>0.017230</td>\n      <td>87.21</td>\n      <td>13.64</td>\n      <td>16.34</td>\n    </tr>\n    <tr>\n      <th>196</th>\n      <td>0.13850</td>\n      <td>0.065260</td>\n      <td>90.63</td>\n      <td>13.77</td>\n      <td>22.29</td>\n    </tr>\n  </tbody>\n</table>\n</div>"
     },
     "metadata": {},
     "execution_count": 15
    }
   ],
   "source": [
    "DICT_DATA['Dataset_0']['DICT_TEST'][\"X\"].head(10)"
   ]
  },
  {
   "cell_type": "code",
   "execution_count": 21,
   "metadata": {},
   "outputs": [
    {
     "output_type": "execute_result",
     "data": {
      "text/plain": "\"winsor_0-Scaler_None-- Encoded Features:['diagnosis', 'Size_3', 'area_mean', 'compactness_mean', 'concave points_mean', 'concavity_mean', 'fractal_dimension_mean', 'perimeter_mean', 'radius_mean', 'smoothness_mean', 'symmetry_mean', 'texture_mean', 'onehot_Age_20-29', 'onehot_Age_30-39', 'onehot_Age_40-49', 'onehot_Age_50-59', 'onehot_Age_60-69', 'onehot_Age_70-79', 'Label_Position_1', 'onehot_Position_2_NaN', 'onehot_Position_2_central', 'onehot_Position_2_left_low', 'onehot_Position_2_left_up', 'onehot_Position_2_right_low', 'onehot_Position_2_right_up', 'Frequency_Size_1', 'onehot_Size_2_0-2', 'onehot_Size_2_12-14', 'onehot_Size_2_15-17', 'onehot_Size_2_24-26', 'onehot_Size_2_3-5', 'onehot_Size_2_6-8', 'onehot_Size_2_9-11', 'Label_Treatment', 'onehot_Type_1_ge40', 'onehot_Type_1_lt40', 'onehot_Type_1_premeno', 'onehot_Type_2_NaN', 'onehot_Type_2_no', 'onehot_Type_2_yes', 'Label_Type_3']\""
     },
     "metadata": {},
     "execution_count": 21
    }
   ],
   "source": [
    "test = DICT_PREPROCESSING['Dataset_0']\n",
    "test"
   ]
  },
  {
   "cell_type": "code",
   "execution_count": 44,
   "metadata": {
    "tags": []
   },
   "outputs": [
    {
     "output_type": "execute_result",
     "data": {
      "text/plain": "     Dataset Encode_low_dimension Encode_high_dimension Winsorize Scale  \\\n0  Dataset_0  onehot               None                  0         None   \n1  Dataset_0  onehot               None                  0         None   \n2  Dataset_0  onehot               None                  0         None   \n\n   Accuracy          Level  \n0  0.930     Top Accuracy   \n1  0.912     Top Accuracy   \n2  0.895     High Accuracy  ",
      "text/html": "<div>\n<style scoped>\n    .dataframe tbody tr th:only-of-type {\n        vertical-align: middle;\n    }\n\n    .dataframe tbody tr th {\n        vertical-align: top;\n    }\n\n    .dataframe thead th {\n        text-align: right;\n    }\n</style>\n<table border=\"1\" class=\"dataframe\">\n  <thead>\n    <tr style=\"text-align: right;\">\n      <th></th>\n      <th>Dataset</th>\n      <th>Encode_low_dimension</th>\n      <th>Encode_high_dimension</th>\n      <th>Winsorize</th>\n      <th>Scale</th>\n      <th>Accuracy</th>\n      <th>Level</th>\n    </tr>\n  </thead>\n  <tbody>\n    <tr>\n      <th>0</th>\n      <td>Dataset_0</td>\n      <td>onehot</td>\n      <td>None</td>\n      <td>0</td>\n      <td>None</td>\n      <td>0.930</td>\n      <td>Top Accuracy</td>\n    </tr>\n    <tr>\n      <th>1</th>\n      <td>Dataset_0</td>\n      <td>onehot</td>\n      <td>None</td>\n      <td>0</td>\n      <td>None</td>\n      <td>0.912</td>\n      <td>Top Accuracy</td>\n    </tr>\n    <tr>\n      <th>2</th>\n      <td>Dataset_0</td>\n      <td>onehot</td>\n      <td>None</td>\n      <td>0</td>\n      <td>None</td>\n      <td>0.895</td>\n      <td>High Accuracy</td>\n    </tr>\n  </tbody>\n</table>\n</div>"
     },
     "metadata": {},
     "execution_count": 44
    },
    {
     "output_type": "execute_result",
     "data": {
      "text/plain": "     Dataset Encode_low_dimension Encode_high_dimension Winsorize Scale  \\\n0  Dataset_0  onehot               None                  0         None   \n1  Dataset_0  onehot               None                  0         None   \n2  Dataset_0  onehot               None                  0         None   \n\n   Precision           Level  \n0  0.889      High Precision  \n1  0.955      Top Precision   \n2  0.913      Top Precision   ",
      "text/html": "<div>\n<style scoped>\n    .dataframe tbody tr th:only-of-type {\n        vertical-align: middle;\n    }\n\n    .dataframe tbody tr th {\n        vertical-align: top;\n    }\n\n    .dataframe thead th {\n        text-align: right;\n    }\n</style>\n<table border=\"1\" class=\"dataframe\">\n  <thead>\n    <tr style=\"text-align: right;\">\n      <th></th>\n      <th>Dataset</th>\n      <th>Encode_low_dimension</th>\n      <th>Encode_high_dimension</th>\n      <th>Winsorize</th>\n      <th>Scale</th>\n      <th>Precision</th>\n      <th>Level</th>\n    </tr>\n  </thead>\n  <tbody>\n    <tr>\n      <th>0</th>\n      <td>Dataset_0</td>\n      <td>onehot</td>\n      <td>None</td>\n      <td>0</td>\n      <td>None</td>\n      <td>0.889</td>\n      <td>High Precision</td>\n    </tr>\n    <tr>\n      <th>1</th>\n      <td>Dataset_0</td>\n      <td>onehot</td>\n      <td>None</td>\n      <td>0</td>\n      <td>None</td>\n      <td>0.955</td>\n      <td>Top Precision</td>\n    </tr>\n    <tr>\n      <th>2</th>\n      <td>Dataset_0</td>\n      <td>onehot</td>\n      <td>None</td>\n      <td>0</td>\n      <td>None</td>\n      <td>0.913</td>\n      <td>Top Precision</td>\n    </tr>\n  </tbody>\n</table>\n</div>"
     },
     "metadata": {},
     "execution_count": 44
    },
    {
     "output_type": "execute_result",
     "data": {
      "text/plain": "     Dataset Encode_low_dimension Encode_high_dimension Winsorize Scale  \\\n0  Dataset_0  onehot               None                  0         None   \n1  Dataset_0  onehot               None                  0         None   \n2  Dataset_0  onehot               None                  0         None   \n\n   Recall        Level  \n0  0.96    Top Recall   \n1  0.84    High Recall  \n2  0.84    High Recall  ",
      "text/html": "<div>\n<style scoped>\n    .dataframe tbody tr th:only-of-type {\n        vertical-align: middle;\n    }\n\n    .dataframe tbody tr th {\n        vertical-align: top;\n    }\n\n    .dataframe thead th {\n        text-align: right;\n    }\n</style>\n<table border=\"1\" class=\"dataframe\">\n  <thead>\n    <tr style=\"text-align: right;\">\n      <th></th>\n      <th>Dataset</th>\n      <th>Encode_low_dimension</th>\n      <th>Encode_high_dimension</th>\n      <th>Winsorize</th>\n      <th>Scale</th>\n      <th>Recall</th>\n      <th>Level</th>\n    </tr>\n  </thead>\n  <tbody>\n    <tr>\n      <th>0</th>\n      <td>Dataset_0</td>\n      <td>onehot</td>\n      <td>None</td>\n      <td>0</td>\n      <td>None</td>\n      <td>0.96</td>\n      <td>Top Recall</td>\n    </tr>\n    <tr>\n      <th>1</th>\n      <td>Dataset_0</td>\n      <td>onehot</td>\n      <td>None</td>\n      <td>0</td>\n      <td>None</td>\n      <td>0.84</td>\n      <td>High Recall</td>\n    </tr>\n    <tr>\n      <th>2</th>\n      <td>Dataset_0</td>\n      <td>onehot</td>\n      <td>None</td>\n      <td>0</td>\n      <td>None</td>\n      <td>0.84</td>\n      <td>High Recall</td>\n    </tr>\n  </tbody>\n</table>\n</div>"
     },
     "metadata": {},
     "execution_count": 44
    }
   ],
   "source": [
    "import re\n",
    "import pandas as pd\n",
    "\n",
    "columns = [\"Dataset\",\"Encode_low_dimension\",\"Encode_high_dimension\",\"Winsorize\",\"Scale\"]\n",
    "df_pp = pd.DataFrame(columns=columns)\n",
    "\n",
    "for i in list(DICT_PREPROCESSING.keys()):\n",
    "    row_pp = [i]\n",
    "    s = DICT_PREPROCESSING[i]\n",
    "    ext = re.search(\"Encoded Features:(.*)']\", s).group(1)\n",
    "    if \"onehot_\" in ext:\n",
    "        row_pp.append('onehot')\n",
    "    elif \"label_\" in ext:\n",
    "        row_pp.append('label')\n",
    "    else:\n",
    "        row_pp.append('None')\n",
    "\n",
    "    if \"frequency_\" in ext:\n",
    "        row_pp.append('frequency')\n",
    "    elif \"mean_\" in ext:\n",
    "        row_pp.append('mean')\n",
    "    else:\n",
    "        row_pp.append('None')\n",
    "\n",
    "    row_pp.append(re.search('winsor_(.*)-Scaler', s).group(1))\n",
    "    row_pp.append(re.search('winsor_0-Scaler_(.*)-- ', s).group(1))\n",
    "    df_pp.loc[len(df_pp)] = row_pp\n",
    "\n",
    "df_report_Accuracy = df_pp.merge(dyna_report[['Dataset','Accuracy']], how = 'left', on = 'Dataset')\n",
    "bins = [0, 0.70, 0.90, 1]\n",
    "labels = [\"Low Accuracy\",\"High Accuracy\",\"Top Accuracy\"]\n",
    "df_report_Accuracy['Level'] = pd.cut(df_report_Accuracy['Accuracy'], bins=bins, labels=labels)\n",
    "df_report_Accuracy.head(3)\n",
    "\n",
    "df_report_Precision = df_pp.merge(dyna_report[['Dataset','Precision']], how = 'left', on = 'Dataset')\n",
    "bins = [0, 0.70, 0.90, 1]\n",
    "labels = [\"Low Precision\",\"High Precision\",\"Top Precision\"]\n",
    "df_report_Precision['Level'] = pd.cut(df_report_Precision['Precision'], bins=bins, labels=labels)\n",
    "df_report_Precision.head(3)\n",
    "\n",
    "df_report_Recall = df_pp.merge(dyna_report[['Dataset','Recall']], how = 'left', on = 'Dataset')\n",
    "bins = [0, 0.70, 0.90, 1]\n",
    "labels = [\"Low Recall\",\"High Recall\",\"Top Recall\"]\n",
    "df_report_Recall['Level'] = pd.cut(df_report_Recall['Recall'], bins=bins, labels=labels)\n",
    "df_report_Recall.head(3)\n"
   ]
  },
  {
   "cell_type": "code",
   "execution_count": 39,
   "metadata": {},
   "outputs": [
    {
     "output_type": "display_data",
     "data": {
      "application/vnd.plotly.v1+json": {
       "config": {
        "plotlyServerURL": "https://plot.ly"
       },
       "data": [
        {
         "link": {
          "source": [
           0,
           1,
           0,
           2,
           3,
           3
          ],
          "target": [
           2,
           3,
           3,
           4,
           4,
           5
          ],
          "value": [
           8,
           4,
           2,
           8,
           4,
           2
          ]
         },
         "node": {
          "color": "blue",
          "label": [
           "A1",
           "A2",
           "B1",
           "B2",
           "C1",
           "C2"
          ],
          "line": {
           "color": "black",
           "width": 0.5
          },
          "pad": 15,
          "thickness": 20
         },
         "type": "sankey"
        }
       ],
       "layout": {
        "font": {
         "size": 10
        },
        "template": {
         "data": {
          "bar": [
           {
            "error_x": {
             "color": "#2a3f5f"
            },
            "error_y": {
             "color": "#2a3f5f"
            },
            "marker": {
             "line": {
              "color": "#E5ECF6",
              "width": 0.5
             }
            },
            "type": "bar"
           }
          ],
          "barpolar": [
           {
            "marker": {
             "line": {
              "color": "#E5ECF6",
              "width": 0.5
             }
            },
            "type": "barpolar"
           }
          ],
          "carpet": [
           {
            "aaxis": {
             "endlinecolor": "#2a3f5f",
             "gridcolor": "white",
             "linecolor": "white",
             "minorgridcolor": "white",
             "startlinecolor": "#2a3f5f"
            },
            "baxis": {
             "endlinecolor": "#2a3f5f",
             "gridcolor": "white",
             "linecolor": "white",
             "minorgridcolor": "white",
             "startlinecolor": "#2a3f5f"
            },
            "type": "carpet"
           }
          ],
          "choropleth": [
           {
            "colorbar": {
             "outlinewidth": 0,
             "ticks": ""
            },
            "type": "choropleth"
           }
          ],
          "contour": [
           {
            "colorbar": {
             "outlinewidth": 0,
             "ticks": ""
            },
            "colorscale": [
             [
              0,
              "#0d0887"
             ],
             [
              0.1111111111111111,
              "#46039f"
             ],
             [
              0.2222222222222222,
              "#7201a8"
             ],
             [
              0.3333333333333333,
              "#9c179e"
             ],
             [
              0.4444444444444444,
              "#bd3786"
             ],
             [
              0.5555555555555556,
              "#d8576b"
             ],
             [
              0.6666666666666666,
              "#ed7953"
             ],
             [
              0.7777777777777778,
              "#fb9f3a"
             ],
             [
              0.8888888888888888,
              "#fdca26"
             ],
             [
              1,
              "#f0f921"
             ]
            ],
            "type": "contour"
           }
          ],
          "contourcarpet": [
           {
            "colorbar": {
             "outlinewidth": 0,
             "ticks": ""
            },
            "type": "contourcarpet"
           }
          ],
          "heatmap": [
           {
            "colorbar": {
             "outlinewidth": 0,
             "ticks": ""
            },
            "colorscale": [
             [
              0,
              "#0d0887"
             ],
             [
              0.1111111111111111,
              "#46039f"
             ],
             [
              0.2222222222222222,
              "#7201a8"
             ],
             [
              0.3333333333333333,
              "#9c179e"
             ],
             [
              0.4444444444444444,
              "#bd3786"
             ],
             [
              0.5555555555555556,
              "#d8576b"
             ],
             [
              0.6666666666666666,
              "#ed7953"
             ],
             [
              0.7777777777777778,
              "#fb9f3a"
             ],
             [
              0.8888888888888888,
              "#fdca26"
             ],
             [
              1,
              "#f0f921"
             ]
            ],
            "type": "heatmap"
           }
          ],
          "heatmapgl": [
           {
            "colorbar": {
             "outlinewidth": 0,
             "ticks": ""
            },
            "colorscale": [
             [
              0,
              "#0d0887"
             ],
             [
              0.1111111111111111,
              "#46039f"
             ],
             [
              0.2222222222222222,
              "#7201a8"
             ],
             [
              0.3333333333333333,
              "#9c179e"
             ],
             [
              0.4444444444444444,
              "#bd3786"
             ],
             [
              0.5555555555555556,
              "#d8576b"
             ],
             [
              0.6666666666666666,
              "#ed7953"
             ],
             [
              0.7777777777777778,
              "#fb9f3a"
             ],
             [
              0.8888888888888888,
              "#fdca26"
             ],
             [
              1,
              "#f0f921"
             ]
            ],
            "type": "heatmapgl"
           }
          ],
          "histogram": [
           {
            "marker": {
             "colorbar": {
              "outlinewidth": 0,
              "ticks": ""
             }
            },
            "type": "histogram"
           }
          ],
          "histogram2d": [
           {
            "colorbar": {
             "outlinewidth": 0,
             "ticks": ""
            },
            "colorscale": [
             [
              0,
              "#0d0887"
             ],
             [
              0.1111111111111111,
              "#46039f"
             ],
             [
              0.2222222222222222,
              "#7201a8"
             ],
             [
              0.3333333333333333,
              "#9c179e"
             ],
             [
              0.4444444444444444,
              "#bd3786"
             ],
             [
              0.5555555555555556,
              "#d8576b"
             ],
             [
              0.6666666666666666,
              "#ed7953"
             ],
             [
              0.7777777777777778,
              "#fb9f3a"
             ],
             [
              0.8888888888888888,
              "#fdca26"
             ],
             [
              1,
              "#f0f921"
             ]
            ],
            "type": "histogram2d"
           }
          ],
          "histogram2dcontour": [
           {
            "colorbar": {
             "outlinewidth": 0,
             "ticks": ""
            },
            "colorscale": [
             [
              0,
              "#0d0887"
             ],
             [
              0.1111111111111111,
              "#46039f"
             ],
             [
              0.2222222222222222,
              "#7201a8"
             ],
             [
              0.3333333333333333,
              "#9c179e"
             ],
             [
              0.4444444444444444,
              "#bd3786"
             ],
             [
              0.5555555555555556,
              "#d8576b"
             ],
             [
              0.6666666666666666,
              "#ed7953"
             ],
             [
              0.7777777777777778,
              "#fb9f3a"
             ],
             [
              0.8888888888888888,
              "#fdca26"
             ],
             [
              1,
              "#f0f921"
             ]
            ],
            "type": "histogram2dcontour"
           }
          ],
          "mesh3d": [
           {
            "colorbar": {
             "outlinewidth": 0,
             "ticks": ""
            },
            "type": "mesh3d"
           }
          ],
          "parcoords": [
           {
            "line": {
             "colorbar": {
              "outlinewidth": 0,
              "ticks": ""
             }
            },
            "type": "parcoords"
           }
          ],
          "pie": [
           {
            "automargin": true,
            "type": "pie"
           }
          ],
          "scatter": [
           {
            "marker": {
             "colorbar": {
              "outlinewidth": 0,
              "ticks": ""
             }
            },
            "type": "scatter"
           }
          ],
          "scatter3d": [
           {
            "line": {
             "colorbar": {
              "outlinewidth": 0,
              "ticks": ""
             }
            },
            "marker": {
             "colorbar": {
              "outlinewidth": 0,
              "ticks": ""
             }
            },
            "type": "scatter3d"
           }
          ],
          "scattercarpet": [
           {
            "marker": {
             "colorbar": {
              "outlinewidth": 0,
              "ticks": ""
             }
            },
            "type": "scattercarpet"
           }
          ],
          "scattergeo": [
           {
            "marker": {
             "colorbar": {
              "outlinewidth": 0,
              "ticks": ""
             }
            },
            "type": "scattergeo"
           }
          ],
          "scattergl": [
           {
            "marker": {
             "colorbar": {
              "outlinewidth": 0,
              "ticks": ""
             }
            },
            "type": "scattergl"
           }
          ],
          "scattermapbox": [
           {
            "marker": {
             "colorbar": {
              "outlinewidth": 0,
              "ticks": ""
             }
            },
            "type": "scattermapbox"
           }
          ],
          "scatterpolar": [
           {
            "marker": {
             "colorbar": {
              "outlinewidth": 0,
              "ticks": ""
             }
            },
            "type": "scatterpolar"
           }
          ],
          "scatterpolargl": [
           {
            "marker": {
             "colorbar": {
              "outlinewidth": 0,
              "ticks": ""
             }
            },
            "type": "scatterpolargl"
           }
          ],
          "scatterternary": [
           {
            "marker": {
             "colorbar": {
              "outlinewidth": 0,
              "ticks": ""
             }
            },
            "type": "scatterternary"
           }
          ],
          "surface": [
           {
            "colorbar": {
             "outlinewidth": 0,
             "ticks": ""
            },
            "colorscale": [
             [
              0,
              "#0d0887"
             ],
             [
              0.1111111111111111,
              "#46039f"
             ],
             [
              0.2222222222222222,
              "#7201a8"
             ],
             [
              0.3333333333333333,
              "#9c179e"
             ],
             [
              0.4444444444444444,
              "#bd3786"
             ],
             [
              0.5555555555555556,
              "#d8576b"
             ],
             [
              0.6666666666666666,
              "#ed7953"
             ],
             [
              0.7777777777777778,
              "#fb9f3a"
             ],
             [
              0.8888888888888888,
              "#fdca26"
             ],
             [
              1,
              "#f0f921"
             ]
            ],
            "type": "surface"
           }
          ],
          "table": [
           {
            "cells": {
             "fill": {
              "color": "#EBF0F8"
             },
             "line": {
              "color": "white"
             }
            },
            "header": {
             "fill": {
              "color": "#C8D4E3"
             },
             "line": {
              "color": "white"
             }
            },
            "type": "table"
           }
          ]
         },
         "layout": {
          "annotationdefaults": {
           "arrowcolor": "#2a3f5f",
           "arrowhead": 0,
           "arrowwidth": 1
          },
          "coloraxis": {
           "colorbar": {
            "outlinewidth": 0,
            "ticks": ""
           }
          },
          "colorscale": {
           "diverging": [
            [
             0,
             "#8e0152"
            ],
            [
             0.1,
             "#c51b7d"
            ],
            [
             0.2,
             "#de77ae"
            ],
            [
             0.3,
             "#f1b6da"
            ],
            [
             0.4,
             "#fde0ef"
            ],
            [
             0.5,
             "#f7f7f7"
            ],
            [
             0.6,
             "#e6f5d0"
            ],
            [
             0.7,
             "#b8e186"
            ],
            [
             0.8,
             "#7fbc41"
            ],
            [
             0.9,
             "#4d9221"
            ],
            [
             1,
             "#276419"
            ]
           ],
           "sequential": [
            [
             0,
             "#0d0887"
            ],
            [
             0.1111111111111111,
             "#46039f"
            ],
            [
             0.2222222222222222,
             "#7201a8"
            ],
            [
             0.3333333333333333,
             "#9c179e"
            ],
            [
             0.4444444444444444,
             "#bd3786"
            ],
            [
             0.5555555555555556,
             "#d8576b"
            ],
            [
             0.6666666666666666,
             "#ed7953"
            ],
            [
             0.7777777777777778,
             "#fb9f3a"
            ],
            [
             0.8888888888888888,
             "#fdca26"
            ],
            [
             1,
             "#f0f921"
            ]
           ],
           "sequentialminus": [
            [
             0,
             "#0d0887"
            ],
            [
             0.1111111111111111,
             "#46039f"
            ],
            [
             0.2222222222222222,
             "#7201a8"
            ],
            [
             0.3333333333333333,
             "#9c179e"
            ],
            [
             0.4444444444444444,
             "#bd3786"
            ],
            [
             0.5555555555555556,
             "#d8576b"
            ],
            [
             0.6666666666666666,
             "#ed7953"
            ],
            [
             0.7777777777777778,
             "#fb9f3a"
            ],
            [
             0.8888888888888888,
             "#fdca26"
            ],
            [
             1,
             "#f0f921"
            ]
           ]
          },
          "colorway": [
           "#636efa",
           "#EF553B",
           "#00cc96",
           "#ab63fa",
           "#FFA15A",
           "#19d3f3",
           "#FF6692",
           "#B6E880",
           "#FF97FF",
           "#FECB52"
          ],
          "font": {
           "color": "#2a3f5f"
          },
          "geo": {
           "bgcolor": "white",
           "lakecolor": "white",
           "landcolor": "#E5ECF6",
           "showlakes": true,
           "showland": true,
           "subunitcolor": "white"
          },
          "hoverlabel": {
           "align": "left"
          },
          "hovermode": "closest",
          "mapbox": {
           "style": "light"
          },
          "paper_bgcolor": "white",
          "plot_bgcolor": "#E5ECF6",
          "polar": {
           "angularaxis": {
            "gridcolor": "white",
            "linecolor": "white",
            "ticks": ""
           },
           "bgcolor": "#E5ECF6",
           "radialaxis": {
            "gridcolor": "white",
            "linecolor": "white",
            "ticks": ""
           }
          },
          "scene": {
           "xaxis": {
            "backgroundcolor": "#E5ECF6",
            "gridcolor": "white",
            "gridwidth": 2,
            "linecolor": "white",
            "showbackground": true,
            "ticks": "",
            "zerolinecolor": "white"
           },
           "yaxis": {
            "backgroundcolor": "#E5ECF6",
            "gridcolor": "white",
            "gridwidth": 2,
            "linecolor": "white",
            "showbackground": true,
            "ticks": "",
            "zerolinecolor": "white"
           },
           "zaxis": {
            "backgroundcolor": "#E5ECF6",
            "gridcolor": "white",
            "gridwidth": 2,
            "linecolor": "white",
            "showbackground": true,
            "ticks": "",
            "zerolinecolor": "white"
           }
          },
          "shapedefaults": {
           "line": {
            "color": "#2a3f5f"
           }
          },
          "ternary": {
           "aaxis": {
            "gridcolor": "white",
            "linecolor": "white",
            "ticks": ""
           },
           "baxis": {
            "gridcolor": "white",
            "linecolor": "white",
            "ticks": ""
           },
           "bgcolor": "#E5ECF6",
           "caxis": {
            "gridcolor": "white",
            "linecolor": "white",
            "ticks": ""
           }
          },
          "title": {
           "x": 0.05
          },
          "xaxis": {
           "automargin": true,
           "gridcolor": "white",
           "linecolor": "white",
           "ticks": "",
           "title": {
            "standoff": 15
           },
           "zerolinecolor": "white",
           "zerolinewidth": 2
          },
          "yaxis": {
           "automargin": true,
           "gridcolor": "white",
           "linecolor": "white",
           "ticks": "",
           "title": {
            "standoff": 15
           },
           "zerolinecolor": "white",
           "zerolinewidth": 2
          }
         }
        },
        "title": {
         "text": "Basic Sankey Diagram"
        }
       }
      }
     },
     "metadata": {}
    }
   ],
   "source": [
    "import plotly.graph_objects as go\n",
    "\n",
    "fig = go.Figure(data=[go.Sankey(\n",
    "    node = dict(\n",
    "      pad = 15,\n",
    "      thickness = 20,\n",
    "      line = dict(color = \"black\", width = 0.5),\n",
    "      label = [\"A1\", \"A2\", \"B1\", \"B2\", \"C1\", \"C2\"],\n",
    "      color = \"blue\"\n",
    "    ),\n",
    "    link = dict(\n",
    "      source = [0, 1, 0, 2, 3, 3], # indices correspond to labels, eg A1, A2, A2, B1, ...\n",
    "      target = [2, 3, 3, 4, 4, 5],\n",
    "      value = [8, 4, 2, 8, 4, 2]\n",
    "  ))])\n",
    "\n",
    "fig.update_layout(title_text=\"Basic Sankey Diagram\", font_size=10)"
   ]
  },
  {
   "cell_type": "code",
   "execution_count": 37,
   "metadata": {
    "tags": []
   },
   "outputs": [
    {
     "output_type": "stream",
     "name": "stderr",
     "text": "'pip' is not recognized as an internal or external command,\noperable program or batch file.\n"
    }
   ],
   "source": []
  },
  {
   "cell_type": "code",
   "execution_count": 13,
   "metadata": {
    "tags": []
   },
   "outputs": [
    {
     "output_type": "execute_result",
     "data": {
      "text/plain": "[('learning_rate', 1),\n ('max_depth', 2),\n ('n_estimators', 50),\n ('random_state', 13)]"
     },
     "metadata": {},
     "execution_count": 13
    }
   ],
   "source": [
    "a = {'learning_rate': 1, 'max_depth': 2, 'n_estimators': 50, 'random_state': 13}\n",
    "lis = a.items()\n",
    "[i for i in lis]"
   ]
  }
 ]
}