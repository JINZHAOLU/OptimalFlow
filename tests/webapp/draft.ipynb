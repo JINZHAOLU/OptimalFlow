{
 "metadata": {
  "language_info": {
   "codemirror_mode": {
    "name": "ipython",
    "version": 3
   },
   "file_extension": ".py",
   "mimetype": "text/x-python",
   "name": "python",
   "nbconvert_exporter": "python",
   "pygments_lexer": "ipython3",
   "version": "3.8.4-final"
  },
  "orig_nbformat": 2,
  "kernelspec": {
   "name": "python_defaultSpec_1601306028578",
   "display_name": "Python 3.8.4 64-bit"
  }
 },
 "nbformat": 4,
 "nbformat_minor": 2,
 "cells": [
  {
   "cell_type": "code",
   "execution_count": 27,
   "metadata": {},
   "outputs": [
    {
     "output_type": "execute_result",
     "data": {
      "text/plain": "dict_keys(['hidden_layer_sizes', 'activation', 'learning_rate', 'solver'])"
     },
     "metadata": {},
     "execution_count": 27
    }
   ],
   "source": [
    "import pandas as pd\n",
    "from optimalflow.utilis_func import pipeline_splitting_rule,update_parameters,reset_parameters\n",
    "\n",
    "import json\n",
    "import os\n",
    "\n",
    "json_path = os.path.join(os.path.dirname(\"./\"), 'settings.json')\n",
    "with open(json_path, encoding='utf-8') as data_file:\n",
    "    para_data = json.load(data_file)\n",
    "data_file.close()\n",
    "\n",
    "reset_flag = para_data['confirm_reset']\n",
    "\n",
    "custom_space = {\n",
    "        \"cls_mlp\":para_data['space_set']['cls']['mlp'],\n",
    "        \"cls_lr\":para_data['space_set']['cls']['lgr'],\n",
    "        \"cls_svm\":para_data['space_set']['cls']['svm'],\n",
    "        \"cls_ada\":para_data['space_set']['cls']['ada'],\n",
    "        \"cls_xgb\":para_data['space_set']['cls']['xgb']\n",
    "}\n",
    "\n",
    "custom_space['cls_mlp'].keys()"
   ]
  },
  {
   "cell_type": "code",
   "execution_count": 28,
   "metadata": {},
   "outputs": [],
   "source": [
    "alg_lst = custom_space.keys()"
   ]
  },
  {
   "cell_type": "code",
   "execution_count": 33,
   "metadata": {
    "tags": []
   },
   "outputs": [
    {
     "output_type": "stream",
     "name": "stdout",
     "text": "Previous Parameters are: {'hidden_layer_sizes': [10, 50, 100], 'activation': ['identity', 'relu', 'tanh', 'logistic'], 'learning_rate': ['constant', 'invscaling', 'adaptive'], 'solver': ['lbfgs', 'sgd', 'adam']}\nCurrent Parameters are updated as: {'hidden_layer_sizes': [10], 'activation': ['relu'], 'learning_rate': ['constant'], 'solver': ['sgd']}\nDone with the parameters update.\ncls_mlp cls mlp {'hidden_layer_sizes': [10], 'activation': ['relu'], 'learning_rate': ['constant'], 'solver': ['sgd']}\n"
    }
   ],
   "source": [
    "for i in alg_lst:\n",
    "    if custom_space[i]!={}:\n",
    "        model_type, algo_name=i.split('_')\n",
    "        update_parameters(mode = model_type,estimator_name=algo_name,**custom_space[i])"
   ]
  },
  {
   "cell_type": "code",
   "execution_count": 34,
   "metadata": {
    "tags": []
   },
   "outputs": [
    {
     "output_type": "stream",
     "name": "stdout",
     "text": "Done with the parameters reset.\n"
    }
   ],
   "source": [
    "reset_parameters()\n",
    "\n",
    "\n",
    "# kwargs = custom_space['mlp']\n",
    "\n",
    "# # # update_parameters(mode = \"cls\", estimator_name = \"mlp\", hidden_layer_sizes = [10],activation=[\"relu\"],learning_rate = [\"constant\"],solver = [\"sgd\"])\n",
    "# update_parameters(mode = \"cls\", estimator_name = \"mlp\", **kwargs)\n"
   ]
  }
 ]
}