{
 "metadata": {
  "language_info": {
   "codemirror_mode": {
    "name": "ipython",
    "version": 3
   },
   "file_extension": ".py",
   "mimetype": "text/x-python",
   "name": "python",
   "nbconvert_exporter": "python",
   "pygments_lexer": "ipython3",
   "version": 3
  },
  "orig_nbformat": 2
 },
 "nbformat": 4,
 "nbformat_minor": 2,
 "cells": [
  {
   "cell_type": "markdown",
   "metadata": {},
   "source": [
    "This is a simple notebook demo to illustrate typically how OptimalFlow's autoFS module work"
   ]
  },
  {
   "cell_type": "code",
   "execution_count": null,
   "metadata": {},
   "outputs": [],
   "source": [
    "# Demo - Classification\n",
    "import pandas as pd\n",
    "from optimalflow.autoFS import dynaFS_clf\n",
    "\n",
    "tr_features = pd.read_csv('./data/classification/train_features.csv')\n",
    "tr_labels = pd.read_csv('./data/classification/train_labels.csv')\n",
    "\n",
    "clf_fs_demo = dynaFS_clf( fs_num =5,random_state=13,cv = 5)\n",
    "\n",
    "clf_fs_demo.fit_fs_clf(tr_features,tr_labels)"
   ]
  },
  {
   "cell_type": "code",
   "execution_count": null,
   "metadata": {},
   "outputs": [],
   "source": [
    "# Demo - Regression\n",
    "import pandas as pd\n",
    "from optimalflow.autoFS import dynaFS_reg\n",
    "\n",
    "tr_features = pd.read_csv('./data/regression/train_features.csv')\n",
    "tr_labels = pd.read_csv('./data/regression/train_labels.csv')\n",
    "\n",
    "reg_fs_demo = dynaFS_reg( fs_num = 5,random_state = 13,cv = 5)\n",
    "\n",
    "reg_fs_demo.fit_fs_reg(tr_features,tr_labels)"
   ]
  }
 ]
}