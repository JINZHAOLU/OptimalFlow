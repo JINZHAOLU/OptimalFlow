{
 "metadata": {
  "language_info": {
   "codemirror_mode": {
    "name": "ipython",
    "version": 3
   },
   "file_extension": ".py",
   "mimetype": "text/x-python",
   "name": "python",
   "nbconvert_exporter": "python",
   "pygments_lexer": "ipython3",
   "version": 3
  },
  "orig_nbformat": 2
 },
 "nbformat": 4,
 "nbformat_minor": 2,
 "cells": [
  {
   "cell_type": "markdown",
   "metadata": {},
   "source": [
    "This is a simple notebook demo to illustrate typically how OptimalFlow's autoFS module work"
   ]
  },
  {
   "cell_type": "code",
   "execution_count": null,
   "metadata": {},
   "outputs": [],
   "source": [
    "# Demo - Classification\n",
    "\n",
    "import pandas as pd\n",
    "from optimalflow.autoFS import dynaFS_clf\n",
    "\n",
    "# Tatanic Cleaned dataset\n",
    "\n",
    "tr_features = pd.read_csv('./data/classification/train_features.csv')\n",
    "tr_labels = pd.read_csv('./data/classification/train_labels.csv')\n",
    "\n",
    "# Set input_form_file = False, when label values are array. Select 'True' from Pandas dataframe.\n",
    "\n",
    "clf_fs_demo = dynaFS_clf( fs_num =5,random_state=13,cv = 5,input_from_file = True)\n",
    "\n",
    "# You can find details of each selector's choice in autoFS_logxxxxx.log file in the ./test folder\n",
    "\n",
    "clf_fs_demo.fit(tr_features,tr_labels)"
   ]
  },
  {
   "cell_type": "code",
   "execution_count": null,
   "metadata": {},
   "outputs": [],
   "source": [
    "# Demo - Regression\n",
    "\n",
    "import pandas as pd\n",
    "from optimalflow.autoFS import dynaFS_reg\n",
    "\n",
    "# Boston Housing Cleaned dataset\n",
    "\n",
    "tr_features = pd.read_csv('./data/regression/train_features.csv')\n",
    "tr_labels = pd.read_csv('./data/regression/train_labels.csv')\n",
    "\n",
    "# Set input_form_file = False, when label values are array. Select 'True' from Pandas dataframe.\n",
    "\n",
    "reg_fs_demo = dynaFS_reg( fs_num = 5,random_state = 13,cv = 5,input_from_file = True)\n",
    "\n",
    "# You can find details of each selector's choice in autoFS_logxxxxx.log file in the ./test folder\n",
    "\n",
    "reg_fs_demo.fit(tr_features,tr_labels)"
   ]
  }
 ]
}