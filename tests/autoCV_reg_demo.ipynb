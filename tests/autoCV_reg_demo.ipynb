{
 "metadata": {
  "language_info": {
   "codemirror_mode": {
    "name": "ipython",
    "version": 3
   },
   "file_extension": ".py",
   "mimetype": "text/x-python",
   "name": "python",
   "nbconvert_exporter": "python",
   "pygments_lexer": "ipython3",
   "version": 3
  },
  "orig_nbformat": 2
 },
 "nbformat": 4,
 "nbformat_minor": 2,
 "cells": [
  {
   "cell_type": "markdown",
   "metadata": {},
   "source": [
    "This is a simple notebook demo to illustrate typically how OptimalFlow's autoCV modules work with regression problem"
   ]
  },
  {
   "cell_type": "code",
   "execution_count": null,
   "metadata": {},
   "outputs": [],
   "source": [
    "# Install external packages in binder environment.\n",
    "!pip install xgboost"
   ]
  },
  {
   "cell_type": "code",
   "execution_count": null,
   "metadata": {},
   "outputs": [],
   "source": [
    "# Regression Demo\n",
    "import pandas as pd\n",
    "from optimalflow.autoCV import evaluate_model,dynaClassifier,dynaRegressor\n",
    "import joblib\n",
    "\n",
    "from optimalflow.utilis_func import pipeline_splitting_rule, update_parameters,reset_parameters\n",
    "reset_parameters()\n",
    "\n",
    "tr_features = pd.read_csv('./data/regression/train_features.csv')\n",
    "tr_labels = pd.read_csv('./data/regression/train_labels.csv')\n",
    "val_features = pd.read_csv('./data/regression/val_features.csv')\n",
    "val_labels = pd.read_csv('./data/regression/val_labels.csv')\n",
    "te_features = pd.read_csv('./data/regression/test_features.csv')\n",
    "te_labels = pd.read_csv('./data/regression/test_labels.csv')\n",
    "\n",
    "reg_cv_demo = dynaRegressor(random_state=13,cv_num = 5)\n",
    "\n",
    "reg_cv_demo.fit(tr_features,tr_labels)\n",
    "\n",
    "models = {}\n",
    "\n",
    "for mdl in ['lr','knn','tree','svm','mlp','rf','gb','ada','xgb','hgboost','huber','rgcv','cvlasso','sgd']:\n",
    "    models[mdl] = joblib.load('./pkl/{}_reg_model.pkl'.format(mdl))\n",
    "\n",
    "for name, mdl in models.items():\n",
    "    try:\n",
    "        ml_evl = evaluate_model(model_type = \"reg\")\n",
    "        ml_evl.fit(name, mdl, val_features, val_labels)\n",
    "    except:\n",
    "        print(f\"Failed to load the {mdl}.\")"
   ]
  }
 ]
}