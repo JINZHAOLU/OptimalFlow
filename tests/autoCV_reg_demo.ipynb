{
 "metadata": {
  "language_info": {
   "codemirror_mode": {
    "name": "ipython",
    "version": 3
   },
   "file_extension": ".py",
   "mimetype": "text/x-python",
   "name": "python",
   "nbconvert_exporter": "python",
   "pygments_lexer": "ipython3",
   "version": 3
  },
  "orig_nbformat": 2,
  "kernelspec": {
   "name": "python_defaultSpec_1597439444339",
   "display_name": "Python 3.8.4 64-bit"
  }
 },
 "nbformat": 4,
 "nbformat_minor": 2,
 "cells": [
  {
   "cell_type": "markdown",
   "metadata": {},
   "source": [
    "This is a simple notebook demo to illustrate typically how OptimalFlow's autoCV modules work with regression problem"
   ]
  },
  {
   "cell_type": "code",
   "execution_count": null,
   "metadata": {},
   "outputs": [],
   "source": [
    "# Install external packages in binder environment.\n",
    "!pip install xgboost"
   ]
  },
  {
   "cell_type": "code",
   "execution_count": 1,
   "metadata": {
    "tags": []
   },
   "outputs": [
    {
     "output_type": "stream",
     "name": "stdout",
     "text": "Now in Progress - Model Selection w/ Cross-validation: Estimate about 0.0 minutes left  [####################] 100.0%\nlr -- R^2 Score: 0.684 / Mean Absolute Error: 3.674 / Mean Squared Error: 24.037 / Root Mean Squared Error: 24.037 / Latency: 6.4s\nknn -- R^2 Score: 0.307 / Mean Absolute Error: 4.639 / Mean Squared Error: 52.794 / Root Mean Squared Error: 52.794 / Latency: 3.3s\ntree -- R^2 Score: 0.64 / Mean Absolute Error: 3.356 / Mean Squared Error: 27.392 / Root Mean Squared Error: 27.392 / Latency: 1.1s\nsvm -- R^2 Score: 0.649 / Mean Absolute Error: 3.466 / Mean Squared Error: 26.746 / Root Mean Squared Error: 26.746 / Latency: 1.0s\nmlp -- R^2 Score: 0.629 / Mean Absolute Error: 3.56 / Mean Squared Error: 28.244 / Root Mean Squared Error: 28.244 / Latency: 3.7s\nrf -- R^2 Score: 0.769 / Mean Absolute Error: 2.614 / Mean Squared Error: 17.601 / Root Mean Squared Error: 17.601 / Latency: 4.7s\ngb -- R^2 Score: 0.779 / Mean Absolute Error: 2.542 / Mean Squared Error: 16.819 / Root Mean Squared Error: 16.819 / Latency: 4.4s\nada -- R^2 Score: 0.749 / Mean Absolute Error: 2.933 / Mean Squared Error: 19.09 / Root Mean Squared Error: 19.09 / Latency: 14.9s\nxgb -- R^2 Score: 0.776 / Mean Absolute Error: 2.66 / Mean Squared Error: 17.02 / Root Mean Squared Error: 17.02 / Latency: 2.0s\nhgboost -- R^2 Score: 0.758 / Mean Absolute Error: 2.98 / Mean Squared Error: 18.412 / Root Mean Squared Error: 18.412 / Latency: 8.0s\nhuber -- R^2 Score: 0.591 / Mean Absolute Error: 3.711 / Mean Squared Error: 31.145 / Root Mean Squared Error: 31.145 / Latency: 4.0s\nrgcv -- R^2 Score: 0.672 / Mean Absolute Error: 3.757 / Mean Squared Error: 24.983 / Root Mean Squared Error: 24.983 / Latency: 5.1s\ncvlasso -- R^2 Score: 0.661 / Mean Absolute Error: 3.741 / Mean Squared Error: 25.821 / Root Mean Squared Error: 25.821 / Latency: 4.0s\nsgd -- R^2 Score: -7.6819521340367e+26 / Mean Absolute Error: 239048363331832.62 / Mean Squared Error: 5.849722584020232e+28 / Root Mean Squared Error: 5.849722584020232e+28 / Latency: 4.1s\n"
    }
   ],
   "source": [
    "# Regression Demo\n",
    "import pandas as pd\n",
    "from optimalflow.autoCV import evaluate_model,dynaRegressor\n",
    "import joblib\n",
    "\n",
    "from optimalflow.utilis_func import pipeline_splitting_rule, update_parameters,reset_parameters\n",
    "reset_parameters()\n",
    "\n",
    "tr_features = pd.read_csv('./data/regression/train_features.csv')\n",
    "tr_labels = pd.read_csv('./data/regression/train_labels.csv')\n",
    "val_features = pd.read_csv('./data/regression/val_features.csv')\n",
    "val_labels = pd.read_csv('./data/regression/val_labels.csv')\n",
    "te_features = pd.read_csv('./data/regression/test_features.csv')\n",
    "te_labels = pd.read_csv('./data/regression/test_labels.csv')\n",
    "\n",
    "reg_cv_demo = dynaRegressor(random_state=13,cv_num = 5)\n",
    "\n",
    "reg_cv_demo.fit(tr_features,tr_labels)\n",
    "\n",
    "models = {}\n",
    "\n",
    "for mdl in ['lr','knn','tree','svm','mlp','rf','gb','ada','xgb','hgboost','huber','rgcv','cvlasso','sgd']:\n",
    "    models[mdl] = joblib.load('./pkl/{}_reg_model.pkl'.format(mdl))\n",
    "\n",
    "for name, mdl in models.items():\n",
    "    try:\n",
    "        ml_evl = evaluate_model(model_type = \"reg\")\n",
    "        ml_evl.fit(name, mdl, val_features, val_labels)\n",
    "    except:\n",
    "        print(f\"Failed to load the {mdl}.\")"
   ]
  },
  {
   "cell_type": "code",
   "execution_count": 1,
   "metadata": {
    "tags": []
   },
   "outputs": [
    {
     "output_type": "stream",
     "name": "stdout",
     "text": "Now in Progress - Model Selection w/ Cross-validation: Estimate about 0.0 minutes left  [####################] 100.0%\nlr -- R^2 Score: 0.684 / Mean Absolute Error: 3.674 / Mean Squared Error: 24.037 / Root Mean Squared Error: 24.037 / Latency: 4.0s\nknn -- R^2 Score: 0.307 / Mean Absolute Error: 4.639 / Mean Squared Error: 52.794 / Root Mean Squared Error: 52.794 / Latency: 4.7s\ntree -- R^2 Score: 0.653 / Mean Absolute Error: 3.264 / Mean Squared Error: 26.386 / Root Mean Squared Error: 26.386 / Latency: 2.8s\nsvm -- R^2 Score: 0.649 / Mean Absolute Error: 3.466 / Mean Squared Error: 26.746 / Root Mean Squared Error: 26.746 / Latency: 2.3s\nmlp -- R^2 Score: 0.629 / Mean Absolute Error: 3.56 / Mean Squared Error: 28.244 / Root Mean Squared Error: 28.244 / Latency: 1.7s\nrf -- R^2 Score: 0.774 / Mean Absolute Error: 2.606 / Mean Squared Error: 17.231 / Root Mean Squared Error: 17.231 / Latency: 20.9s\ngb -- R^2 Score: 0.782 / Mean Absolute Error: 2.594 / Mean Squared Error: 16.571 / Root Mean Squared Error: 16.571 / Latency: 2.3s\nada -- R^2 Score: 0.756 / Mean Absolute Error: 2.84 / Mean Squared Error: 18.572 / Root Mean Squared Error: 18.572 / Latency: 8.5s\nxgb -- R^2 Score: 0.791 / Mean Absolute Error: 2.634 / Mean Squared Error: 15.911 / Root Mean Squared Error: 15.911 / Latency: 2.1s\nhgboost -- R^2 Score: 0.758 / Mean Absolute Error: 2.98 / Mean Squared Error: 18.412 / Root Mean Squared Error: 18.412 / Latency: 9.1s\nhuber -- R^2 Score: 0.591 / Mean Absolute Error: 3.711 / Mean Squared Error: 31.145 / Root Mean Squared Error: 31.145 / Latency: 4.0s\nrgcv -- R^2 Score: 0.672 / Mean Absolute Error: 3.757 / Mean Squared Error: 24.983 / Root Mean Squared Error: 24.983 / Latency: 4.1s\ncvlasso -- R^2 Score: 0.661 / Mean Absolute Error: 3.741 / Mean Squared Error: 25.821 / Root Mean Squared Error: 25.821 / Latency: 5.1s\nsgd -- R^2 Score: -7.6819521340367e+26 / Mean Absolute Error: 239048363331832.62 / Mean Squared Error: 5.849722584020232e+28 / Root Mean Squared Error: 5.849722584020232e+28 / Latency: 4.0s\n"
    }
   ],
   "source": [
    "# Fast Regression Demo\n",
    "import pandas as pd\n",
    "from optimalflow.autoCV import evaluate_model,fastRegressor\n",
    "import joblib\n",
    "\n",
    "from optimalflow.utilis_func import pipeline_splitting_rule, update_parameters,reset_parameters\n",
    "reset_parameters()\n",
    "\n",
    "tr_features = pd.read_csv('./data/regression/train_features.csv')\n",
    "tr_labels = pd.read_csv('./data/regression/train_labels.csv')\n",
    "val_features = pd.read_csv('./data/regression/val_features.csv')\n",
    "val_labels = pd.read_csv('./data/regression/val_labels.csv')\n",
    "te_features = pd.read_csv('./data/regression/test_features.csv')\n",
    "te_labels = pd.read_csv('./data/regression/test_labels.csv')\n",
    "\n",
    "custom_ml = ['lr','knn','tree','svm','mlp','rf','gb','ada','xgb','hgboost','huber','rgcv','cvlasso','sgd']\n",
    "\n",
    "reg_cv_demo = fastRegressor(custom_estimators = custom_ml,random_state = 13,cv_num = 5,n_comb = 12)\n",
    "\n",
    "reg_cv_demo.fit(tr_features,tr_labels)\n",
    "\n",
    "models = {}\n",
    "\n",
    "for mdl in ['lr','knn','tree','svm','mlp','rf','gb','ada','xgb','hgboost','huber','rgcv','cvlasso','sgd']:\n",
    "    models[mdl] = joblib.load('./pkl/{}_reg_model.pkl'.format(mdl))\n",
    "\n",
    "for name, mdl in models.items():\n",
    "    try:\n",
    "        ml_evl = evaluate_model(model_type = \"reg\")\n",
    "        ml_evl.fit(name, mdl, val_features, val_labels)\n",
    "    except:\n",
    "        print(f\"Failed to load the {mdl}.\")"
   ]
  }
 ]
}