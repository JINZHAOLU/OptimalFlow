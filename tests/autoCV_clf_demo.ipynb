{
 "metadata": {
  "language_info": {
   "codemirror_mode": {
    "name": "ipython",
    "version": 3
   },
   "file_extension": ".py",
   "mimetype": "text/x-python",
   "name": "python",
   "nbconvert_exporter": "python",
   "pygments_lexer": "ipython3",
   "version": 3
  },
  "orig_nbformat": 2
 },
 "nbformat": 4,
 "nbformat_minor": 2,
 "cells": [
  {
   "cell_type": "markdown",
   "metadata": {},
   "source": [
    "This is a simple notebook demo to illustrate typically how OptimalFlow's autoCV modules work with classification problem"
   ]
  },
  {
   "cell_type": "code",
   "execution_count": null,
   "metadata": {},
   "outputs": [],
   "source": [
    "# Install external packages in binder environment.\n",
    "!pip install xgboost"
   ]
  },
  {
   "cell_type": "code",
   "execution_count": null,
   "metadata": {},
   "outputs": [],
   "source": [
    "# Classification Demo \n",
    "import pandas as pd\n",
    "from optimalflow.autoCV import dynaClassifier,evaluate_model,dynaClassifier\n",
    "import joblib\n",
    "\n",
    "tr_features = pd.read_csv('./data/classification/train_features.csv')\n",
    "tr_labels = pd.read_csv('./data/classification/train_labels.csv')\n",
    "val_features = pd.read_csv('./data/classification/val_features.csv')\n",
    "val_labels = pd.read_csv('./data/classification/val_labels.csv')\n",
    "te_features = pd.read_csv('./data/classification/test_features.csv')\n",
    "te_labels = pd.read_csv('./data/classification/test_labels.csv')\n",
    "\n",
    "custom_ml = ['lgr','svm','mlp','rf','ada','gb','xgb','lsvc','sgd','hgboost','rgcv']\n",
    "\n",
    "clf_cv_demo = dynaClassifier(custom_estimators = custom_ml,random_state = 13,cv_num = 5)\n",
    "\n",
    "clf_cv_demo.fit(tr_features,tr_labels)\n",
    "\n",
    "models = {}\n",
    "\n",
    "for mdl in ['lgr','svm','mlp','rf','ada','gb','xgb','lsvc','sgd','hgboost','rgcv']:\n",
    "    models[mdl] = joblib.load('./pkl/{}_clf_model.pkl'.format(mdl))\n",
    "\n",
    "for name, mdl in models.items():\n",
    "    try:\n",
    "        ml_evl = evaluate_model(model_type = \"cls\")\n",
    "        ml_evl.fit(name, mdl, val_features, val_labels)\n",
    "    except:\n",
    "        print(f\"Failed to load the {mdl}.\")"
   ]
  }
 ]
}